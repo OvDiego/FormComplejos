{
 "cells": [
  {
   "cell_type": "code",
   "execution_count": null,
   "id": "d0ebd36d",
   "metadata": {
    "ExecuteTime": {
     "end_time": "2023-03-05T19:02:28.792600Z",
     "start_time": "2023-03-05T19:02:28.783594Z"
    }
   },
   "outputs": [],
   "source": [
    "import warnings\n",
    "from IPython.display import display, HTML\n",
    "warnings.filterwarnings('ignore')\n",
    "display(HTML(\"<style>.container { width:100% !important; }</style>\"))"
   ]
  },
  {
   "cell_type": "markdown",
   "id": "8d0b9358",
   "metadata": {},
   "source": [
    "# Nombres de espacio, variables locales y globales\n",
    "\n",
    "En Python, un nombre de espacio es un contenedor abstracto que mantiene una relación entre los nombres y los objetos en un programa. Los nombres de espacio se utilizan para organizar y separar el código en unidades lógicas. Cada nombre de espacio está asociado a un ámbito (scope), que define la visibilidad de los nombres en ese espacio de nombres.\n",
    "\n",
    "En Python, hay varios tipos de ámbitos, incluyendo el ámbito global y el ámbito local. El ámbito global se refiere al espacio de nombres definido fuera de las funciones y el ámbito local se refiere al espacio de nombres definido dentro de una función.\n",
    "\n",
    "En Python, una variable es un nombre que se utiliza para hacer referencia a un objeto en el programa. Las variables pueden ser asignadas a diferentes tipos de objetos, incluyendo números, cadenas, listas, etc.\n",
    "\n",
    "Cuando se define una variable dentro de una función, esta se convierte en una variable local. Esto significa que solo se puede acceder a la variable dentro de la función y no fuera de ella. Por otro lado, si una variable se define fuera de una función, esta se convierte en una variable global y se puede acceder desde cualquier parte del programa.\n",
    "\n",
    "Es importante tener en cuenta que si se define una variable con el mismo nombre en diferentes ámbitos, se crean dos variables diferentes y no se relacionan entre sí. Por lo tanto, es posible tener una variable global y una variable local con el mismo nombre.\n",
    "\n",
    "Aquí se presentan algunos ejemplos para ilustrar estos conceptos:"
   ]
  },
  {
   "cell_type": "code",
   "execution_count": null,
   "id": "6115bb69",
   "metadata": {
    "ExecuteTime": {
     "end_time": "2023-03-05T19:08:00.546866Z",
     "start_time": "2023-03-05T19:08:00.533860Z"
    }
   },
   "outputs": [],
   "source": [
    "# Variable global\n",
    "x = 10\n",
    "\n",
    "def funcion():\n",
    "    # Variable local\n",
    "    y = 5\n",
    "    print(\"El valor de x es:\", x)\n",
    "    print(\"El valor de y es:\", y)\n",
    "\n",
    "funcion()\n",
    "print(\"El valor de x es:\", x)"
   ]
  },
  {
   "cell_type": "markdown",
   "id": "1ee106c0",
   "metadata": {},
   "source": [
    "En este ejemplo, la variable `x` se define fuera de la función, por lo que es una variable global. La variable `y` se define dentro de la función, por lo que es una variable local. Dentro de la función, se puede acceder tanto a la variable global como a la variable local. Sin embargo, fuera de la función, solo se puede acceder a la variable global."
   ]
  },
  {
   "cell_type": "code",
   "execution_count": null,
   "id": "47f430fd",
   "metadata": {
    "ExecuteTime": {
     "end_time": "2023-03-05T19:09:03.191431Z",
     "start_time": "2023-03-05T19:09:03.179348Z"
    }
   },
   "outputs": [],
   "source": [
    "# Variable global\n",
    "x = 10\n",
    "\n",
    "def funcion():\n",
    "    # Variable local con el mismo nombre que la variable global\n",
    "    x = 5\n",
    "    print(\"El valor de x dentro de la función es:\", x)\n",
    "\n",
    "funcion()\n",
    "print(\"El valor de x fuera de la función es:\", x)"
   ]
  },
  {
   "cell_type": "markdown",
   "id": "3c0aaac1",
   "metadata": {},
   "source": [
    "En este ejemplo, la variable `x` se define fuera de la función, por lo que es una variable global. Dentro de la función, se define una variable local con el mismo nombre (`x`). Esta variable local y la variable global no están relacionadas entre sí, por lo que dentro de la función se muestra el valor de la variable local y fuera de la función se muestra el valor de la variable global.\n",
    "\n",
    "En conclusión, en Python es importante entender los conceptos de nombres de espacio, ámbitos y variables locales y globales para evitar confusiones y errores en el código. Vamos a revisar otros ejemplos para hacer notar las diferencias.\n",
    "\n",
    "## Ejemplo 1"
   ]
  },
  {
   "cell_type": "code",
   "execution_count": null,
   "id": "a4624171",
   "metadata": {
    "ExecuteTime": {
     "end_time": "2023-03-05T19:11:27.676415Z",
     "start_time": "2023-03-05T19:11:27.663088Z"
    }
   },
   "outputs": [],
   "source": [
    "# Variable global\n",
    "x = 10\n",
    "\n",
    "def funcion1():\n",
    "    # Variable local\n",
    "    x = 5\n",
    "    def funcion2():\n",
    "        # Variable local\n",
    "        x = 3\n",
    "        print(\"El valor de x dentro de la función 2 es:\", x)\n",
    "    funcion2()\n",
    "    print(\"El valor de x dentro de la función 1 es:\", x)\n",
    "\n",
    "funcion1()\n",
    "print(\"El valor de x fuera de la función es:\", x)"
   ]
  },
  {
   "cell_type": "markdown",
   "id": "1ae4a0fa",
   "metadata": {},
   "source": [
    "En Python, cuando una variable se define dentro de una función, por defecto se considera una variable local. Sin embargo, hay casos en los que se necesita modificar una variable global dentro de una función, o una variable que está en una función externa a la actual. Para ello, se utilizan las palabras clave `global` y `nonlocal`.\n",
    "\n",
    "La diferencia entre las palabras clave `global` y `nonlocal` en Python radica en la forma en que se modifican las variables en diferentes ámbitos.\n",
    "\n",
    "La palabra clave `global` se utiliza para modificar una variable que está definida en el ámbito global (es decir, fuera de cualquier función) desde dentro de una función. Cuando se utiliza la palabra clave `global`, se está diciendo a Python que la variable a la que se hace referencia es la misma variable global que se encuentra fuera de la función.\n",
    "\n",
    "Por otro lado, la palabra clave `nonlocal` se utiliza para modificar una variable que está definida en un ámbito superior al de la función actual. Es decir, si la variable se define en una función exterior a la actual, pero no en el ámbito global. Cuando se utiliza la palabra clave `nonlocal`, se está diciendo a Python que la variable a la que se hace referencia es la misma variable definida en un ámbito superior, no una nueva variable local.\n",
    "\n",
    "## Ejemplo 2"
   ]
  },
  {
   "cell_type": "code",
   "execution_count": null,
   "id": "972697b7",
   "metadata": {
    "ExecuteTime": {
     "end_time": "2023-03-05T19:21:33.567777Z",
     "start_time": "2023-03-05T19:21:33.553767Z"
    }
   },
   "outputs": [],
   "source": [
    "# Variable global\n",
    "x = 10\n",
    "\n",
    "def funcion1():\n",
    "    # Variable local\n",
    "    x = 5\n",
    "    def funcion2():\n",
    "        # Variable local\n",
    "        x = 3\n",
    "        print(\"El valor de x dentro de la función 2 es:\", x)\n",
    "    funcion2()\n",
    "    print(\"El valor de x dentro de la función 1 es:\", x)\n",
    "\n",
    "def funcion3():\n",
    "    global x\n",
    "    x = 7\n",
    "    print(\"El valor de x dentro de la función 3 es:\", x)\n",
    "\n",
    "funcion1()\n",
    "funcion3()\n",
    "print(\"El valor de x fuera de las funciones es:\", x)"
   ]
  },
  {
   "cell_type": "markdown",
   "id": "a14b316b",
   "metadata": {},
   "source": [
    "En este ejemplo, se combinan variables locales y globales con diferentes ámbitos y nombres, y también se muestra cómo una función puede modificar el valor de una variable global utilizando la palabra clave `global`.\n",
    "\n",
    "## Ejemplo 3"
   ]
  },
  {
   "cell_type": "code",
   "execution_count": null,
   "id": "a42560e1",
   "metadata": {
    "ExecuteTime": {
     "end_time": "2023-03-05T19:25:52.301646Z",
     "start_time": "2023-03-05T19:25:52.291537Z"
    }
   },
   "outputs": [],
   "source": [
    "# Variable global\n",
    "x = 10\n",
    "\n",
    "def funcion1():\n",
    "    # Variable local\n",
    "    x = 5\n",
    "    def funcion2():\n",
    "        # Variable local\n",
    "        nonlocal x\n",
    "        x = 3\n",
    "        print(\"El valor de x dentro de la función 2 es:\", x)\n",
    "    funcion2()\n",
    "    print(\"El valor de x dentro de la función 1 es:\", x)\n",
    "\n",
    "funcion1()\n",
    "print(\"El valor de x fuera de la función es:\", x)"
   ]
  },
  {
   "cell_type": "markdown",
   "id": "ed67b99a",
   "metadata": {
    "ExecuteTime": {
     "end_time": "2023-03-05T19:26:04.808442Z",
     "start_time": "2023-03-05T19:26:04.759833Z"
    }
   },
   "source": [
    "En este ejemplo, se muestra el uso de la palabra clave `nonlocal` para modificar el valor de una variable en una función anidada, es decir, para acceder a una variable que está en un ámbito superior al de la función actual."
   ]
  }
 ],
 "metadata": {
  "kernelspec": {
   "display_name": "Python 3 (ipykernel)",
   "language": "python",
   "name": "python3"
  },
  "language_info": {
   "codemirror_mode": {
    "name": "ipython",
    "version": 3
   },
   "file_extension": ".py",
   "mimetype": "text/x-python",
   "name": "python",
   "nbconvert_exporter": "python",
   "pygments_lexer": "ipython3",
   "version": "3.10.9"
  },
  "varInspector": {
   "cols": {
    "lenName": 16,
    "lenType": 16,
    "lenVar": 40
   },
   "kernels_config": {
    "python": {
     "delete_cmd_postfix": "",
     "delete_cmd_prefix": "del ",
     "library": "var_list.py",
     "varRefreshCmd": "print(var_dic_list())"
    },
    "r": {
     "delete_cmd_postfix": ") ",
     "delete_cmd_prefix": "rm(",
     "library": "var_list.r",
     "varRefreshCmd": "cat(var_dic_list()) "
    }
   },
   "types_to_exclude": [
    "module",
    "function",
    "builtin_function_or_method",
    "instance",
    "_Feature"
   ],
   "window_display": false
  }
 },
 "nbformat": 4,
 "nbformat_minor": 5
}
