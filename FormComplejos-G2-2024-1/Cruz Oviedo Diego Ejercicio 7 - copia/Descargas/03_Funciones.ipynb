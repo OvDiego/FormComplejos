{
 "cells": [
  {
   "cell_type": "code",
   "execution_count": null,
   "id": "6c188c23",
   "metadata": {
    "ExecuteTime": {
     "end_time": "2023-02-27T05:02:42.519580Z",
     "start_time": "2023-02-27T05:02:42.512603Z"
    }
   },
   "outputs": [],
   "source": [
    "import warnings\n",
    "from IPython.display import display, HTML\n",
    "warnings.filterwarnings('ignore')\n",
    "display(HTML(\"<style>.container { width:100% !important; }</style>\"))"
   ]
  },
  {
   "cell_type": "markdown",
   "id": "f42b6a01",
   "metadata": {},
   "source": [
    "# Funciones en Python\n",
    "\n",
    "## ¿Qué son las funciones?\n",
    "\n",
    "Las funciones son bloques de código que se pueden reutilizar en diferentes partes de un programa. Una función se define una vez, pero se puede llamar (invocar) muchas veces, lo que la hace muy útil para realizar operaciones repetitivas.\n",
    "\n",
    "## Ventajas de usar funciones\n",
    "\n",
    "* Reutilización de código: Una vez que se define una función, se puede llamar en cualquier parte del programa, lo que permite reutilizar el código en diferentes partes del mismo. Esto reduce la duplicación de código y hace que el programa sea más fácil de mantener.\n",
    "\n",
    "* Organización del código: Las funciones permiten separar el código en módulos lógicos, lo que facilita la lectura y el mantenimiento del mismo.\n",
    "\n",
    "* Abstracción: Las funciones pueden ocultar detalles de implementación y permitir que el usuario se centre en la lógica de la aplicación en lugar de en los detalles técnicos.\n",
    "\n",
    "## Definición de una función\n",
    "\n",
    "En Python, una función se define con la palabra clave def, seguida del nombre de la función y los parámetros de entrada entre paréntesis. La sintaxis básica para definir una función es la siguiente:"
   ]
  },
  {
   "cell_type": "raw",
   "id": "942c8749",
   "metadata": {},
   "source": [
    "def nombre_de_la_funcion(parametro_1, parametro_2, ...):\n",
    "    # Cuerpo de la función\n",
    "    return resultado"
   ]
  },
  {
   "cell_type": "markdown",
   "id": "ff6131c7",
   "metadata": {},
   "source": [
    "* `nombre_de_la_funcion`: El nombre de la función, que debe ser único en el programa.\n",
    "\n",
    "* `parametro_1`, `parametro_2`, ...: Los parámetros de entrada de la función. Estos son opcionales.\n",
    "\n",
    "* `return`: La sentencia `return` indica el valor que la función debe devolver. Esto es opcional y se puede omitir si la función no devuelve nada.\n",
    "\n",
    "A continuación, se muestraos un ejemplo sencillo de una función en Python que suma dos números:"
   ]
  },
  {
   "cell_type": "code",
   "execution_count": null,
   "id": "8275c3c5",
   "metadata": {
    "ExecuteTime": {
     "end_time": "2023-02-27T05:23:05.119651Z",
     "start_time": "2023-02-27T05:23:05.114645Z"
    }
   },
   "outputs": [],
   "source": [
    "def sumar(num1, num2):\n",
    "    resultado = num1 + num2\n",
    "    return resultado"
   ]
  },
  {
   "cell_type": "markdown",
   "id": "b9d3a67b",
   "metadata": {},
   "source": [
    "Esta función toma dos parámetros (`num1` y `num2`), los suma y devuelve el resultado.\n",
    "\n",
    "Para llamar (invocar) a la función, simplemente se utiliza su nombre y se le pasan los argumentos de entrada:"
   ]
  },
  {
   "cell_type": "code",
   "execution_count": null,
   "id": "b7a4aec2",
   "metadata": {
    "ExecuteTime": {
     "end_time": "2023-02-27T05:23:33.237107Z",
     "start_time": "2023-02-27T05:23:33.233103Z"
    }
   },
   "outputs": [],
   "source": [
    "resultado = sumar(2, 3)\n",
    "print(resultado)"
   ]
  },
  {
   "cell_type": "markdown",
   "id": "846f5456",
   "metadata": {},
   "source": [
    "En este ejemplo, se llama a la función `sumar()` con los argumentos `2` y `3`. La función devuelve `5`, que se almacena en la variable `resultado` y se imprime en la pantalla."
   ]
  },
  {
   "cell_type": "markdown",
   "id": "c804af72",
   "metadata": {},
   "source": [
    "## Pasar argumentos a las funciones\n",
    "\n",
    "Los argumentos de entrada son los valores que se pasan a una función al llamarla. En Python, existen diferentes formas de pasar argumentos a las funciones:\n",
    "\n",
    "## Argumentos posicionales\n",
    "\n",
    "Los argumentos posicionales son los argumentos que se pasan en el orden en que se definen los parámetros de la función. Por ejemplo:"
   ]
  },
  {
   "cell_type": "code",
   "execution_count": null,
   "id": "e094f393",
   "metadata": {
    "ExecuteTime": {
     "end_time": "2023-02-27T05:24:39.895751Z",
     "start_time": "2023-02-27T05:24:39.889698Z"
    }
   },
   "outputs": [],
   "source": [
    "def saludar(nombre, saludo):\n",
    "    mensaje = f\"{saludo}, {nombre}!\"\n",
    "    print(mensaje)\n",
    "\n",
    "saludar(\"Juan\", \"Hola\")"
   ]
  },
  {
   "cell_type": "markdown",
   "id": "c4165845",
   "metadata": {},
   "source": [
    "En este ejemplo, se llama a la función saludar() con dos argumentos posicionales: \"Juan\" y \"Hola\". El primer argumento \"Juan\" se asigna al parámetro nombre, y el segundo argumento \"Hola\" se asigna al parámetro saludo.\n",
    "\n",
    "## Argumentos por palabra clave\n",
    "\n",
    "Los argumentos por palabra clave son los argumentos que se pasan utilizando el nombre del parámetro de la función. Por ejemplo:"
   ]
  },
  {
   "cell_type": "code",
   "execution_count": null,
   "id": "3dff29f5",
   "metadata": {
    "ExecuteTime": {
     "end_time": "2023-02-27T05:25:20.708585Z",
     "start_time": "2023-02-27T05:25:20.690610Z"
    }
   },
   "outputs": [],
   "source": [
    "def saludar(nombre, saludo):\n",
    "    mensaje = f\"{saludo}, {nombre}!\"\n",
    "    print(mensaje)\n",
    "\n",
    "saludar(saludo=\"Hola\", nombre=\"Juan\")"
   ]
  },
  {
   "cell_type": "markdown",
   "id": "426e356c",
   "metadata": {},
   "source": [
    "En este ejemplo, se llama a la función `saludar()` con dos argumentos por palabra clave: `\"Hola\"` se pasa al parámetro `saludo`, y `\"Juan\"` se pasa al parámetro nombre. Los argumentos se pueden pasar en cualquier orden, ya que se identifican por el nombre del parámetro.\n",
    "\n",
    "## Argumentos por defecto\n",
    "\n",
    "Los argumentos por defecto son los valores que se asignan a los parámetros de una función en caso de que no se especifiquen en la llamada a la función. Por ejemplo:"
   ]
  },
  {
   "cell_type": "code",
   "execution_count": null,
   "id": "99d409aa",
   "metadata": {
    "ExecuteTime": {
     "end_time": "2023-02-27T05:47:57.045877Z",
     "start_time": "2023-02-27T05:47:57.029628Z"
    }
   },
   "outputs": [],
   "source": [
    "def saludar(nombre, saludo=\"Hola\"):\n",
    "    mensaje = f\"{saludo}, {nombre}!\"\n",
    "    print(mensaje)\n",
    "\n",
    "saludar(\"Juan\")"
   ]
  },
  {
   "cell_type": "markdown",
   "id": "7cddd4e0",
   "metadata": {},
   "source": [
    "En este ejemplo, se llama a la función `saludar()` con un solo argumento `\"Juan\"`. Como el segundo parámetro `saludo` tiene un valor por defecto de `\"Hola\"`, no es necesario pasarlo en la llamada a la función. La función imprime el mensaje `\"Hola, Juan!\"`.\n",
    "\n",
    "## Argumentos variables\n",
    "\n",
    "Los argumentos variables son los argumentos que pueden tomar un número variable de valores. En Python, hay dos tipos de argumentos variables: argumentos posicionales variables y argumentos por palabra clave variables.\n",
    "\n",
    "### Argumentos posicionales variables\n",
    "\n",
    "Los argumentos posicionales variables se definen utilizando el asterisco (`*`) antes del nombre del parámetro. Esto indica que el parámetro puede tomar un número variable de valores posicionales. Por ejemplo:"
   ]
  },
  {
   "cell_type": "code",
   "execution_count": null,
   "id": "dbac2241",
   "metadata": {
    "ExecuteTime": {
     "end_time": "2023-02-27T05:49:08.688686Z",
     "start_time": "2023-02-27T05:49:08.676934Z"
    }
   },
   "outputs": [],
   "source": [
    "def sumar(*numeros):\n",
    "    resultado = sum(numeros)\n",
    "    return resultado\n",
    "\n",
    "suma = sumar(1, 2, 3, 4, 5)\n",
    "print(suma)"
   ]
  },
  {
   "cell_type": "markdown",
   "id": "78befae4",
   "metadata": {},
   "source": [
    "En este ejemplo, se define una función `sumar()` que toma un número variable de argumentos posicionales (`*numeros`). La función utiliza la función `sum()` para sumar todos los valores que se le pasen. Luego, se llama a la función `sumar()` con los argumentos `1`, `2`, `3`, `4` y `5`. La función devuelve la suma de todos los valores, que es `15`.\n",
    "\n",
    "### Argumentos por palabra clave variables\n",
    "\n",
    "Los argumentos por palabra clave variables se definen utilizando el doble asterisco (`**`) antes del nombre del parámetro. Esto indica que el parámetro puede tomar un número variable de argumentos por palabra clave. Por ejemplo:"
   ]
  },
  {
   "cell_type": "code",
   "execution_count": null,
   "id": "bd8ce938",
   "metadata": {
    "ExecuteTime": {
     "end_time": "2023-02-27T05:51:02.817213Z",
     "start_time": "2023-02-27T05:51:02.806255Z"
    }
   },
   "outputs": [],
   "source": [
    "def imprimir_info(**datos):\n",
    "    for clave, valor in datos.items():\n",
    "        print(f\"{clave}: {valor}\")\n",
    "\n",
    "imprimir_info(nombre=\"Juan\", edad=25, ciudad=\"Madrid\")"
   ]
  },
  {
   "cell_type": "markdown",
   "id": "620cf679",
   "metadata": {},
   "source": [
    "En este ejemplo, se define una función `imprimir_info()` que toma un número variable de argumentos por palabra clave (`**datos`). La función utiliza un bucle `for` para imprimir cada par clave-valor de los argumentos pasados. Luego, se llama a la función `imprimir_info()` con tres argumentos por palabra clave: `\"nombre\"`, `\"edad\"` y `\"ciudad\"`, cada uno con su respectivo valor.\n",
    "\n",
    "## Ejemplo: Ventajas de las funciones\n",
    "\n",
    "A continuación, se presenta un ejemplo que muestra cómo las funciones pueden simplificar y mejorar el código.\n",
    "\n",
    "Supongamos que tenemos una lista de números y queremos calcular la suma y el producto de todos los elementos de la lista. Una forma de hacerlo sería la siguiente:"
   ]
  },
  {
   "cell_type": "code",
   "execution_count": null,
   "id": "5141da27",
   "metadata": {
    "ExecuteTime": {
     "end_time": "2023-02-27T05:52:17.651312Z",
     "start_time": "2023-02-27T05:52:17.642304Z"
    }
   },
   "outputs": [],
   "source": [
    "numeros = [1, 2, 3, 4, 5]\n",
    "\n",
    "# Calcular la suma de los números\n",
    "suma = 0\n",
    "for num in numeros:\n",
    "    suma += num\n",
    "\n",
    "# Calcular el producto de los números\n",
    "producto = 1\n",
    "for num in numeros:\n",
    "    producto *= num\n",
    "\n",
    "print(f\"La suma es: {suma}\")\n",
    "print(f\"El producto es: {producto}\")"
   ]
  },
  {
   "cell_type": "markdown",
   "id": "a6553add",
   "metadata": {},
   "source": [
    "En este ejemplo, se utiliza un bucle `for` para recorrer la lista de números dos veces: una para calcular la suma y otra para calcular el producto. Si la lista de números fuera muy grande, esto podría ser muy ineficiente.\n",
    "\n",
    "Una forma más eficiente de hacerlo sería definir dos funciones: una para calcular la suma y otra para calcular el producto. De esta forma, se puede reutilizar el código de la función para calcular la suma y el producto de cualquier lista de números, sin tener que repetir el código."
   ]
  },
  {
   "cell_type": "code",
   "execution_count": null,
   "id": "2dcd81ac",
   "metadata": {
    "ExecuteTime": {
     "end_time": "2023-02-27T05:52:43.877638Z",
     "start_time": "2023-02-27T05:52:43.863617Z"
    }
   },
   "outputs": [],
   "source": [
    "def calcular_suma(numeros):\n",
    "    suma = 0\n",
    "    for num in numeros:\n",
    "        suma += num\n",
    "    return suma\n",
    "\n",
    "def calcular_producto(numeros):\n",
    "    producto = 1\n",
    "    for num in numeros:\n",
    "        producto *= num\n",
    "    return producto\n",
    "\n",
    "numeros = [1, 2, 3, 4, 5]\n",
    "\n",
    "suma = calcular_suma(numeros)\n",
    "producto = calcular_producto(numeros)\n",
    "\n",
    "print(f\"La suma es: {suma}\")\n",
    "print(f\"El producto es: {producto}\")"
   ]
  },
  {
   "cell_type": "markdown",
   "id": "6f2022fa",
   "metadata": {},
   "source": [
    "En este ejemplo, se definen dos funciones: `calcular_suma()` y `calcular_producto()`, que toman una lista de números como parámetro y devuelven la suma y el producto, respectivamente. Luego, se llama a estas funciones con la lista de números `numeros` para calcular la suma y el producto. Como se puede ver, el código es mucho más sencillo y legible, y se evita la duplicación de código.\n",
    "\n",
    "## Parámetro o Argumento\n",
    "\n",
    "En Python, los términos \"parámetro\" y \"argumento\" se refieren a dos conceptos distintos pero relacionados.\n",
    "\n",
    "Un parámetro es un valor que se define en la definición de una función, y que representa una variable que se utilizará dentro de la función. Los parámetros se utilizan para pasar valores a una función, que se utilizarán en el cuerpo de la función para realizar ciertas operaciones. Por ejemplo, en la siguiente definición de función, `a` y `b` son parámetros:"
   ]
  },
  {
   "cell_type": "code",
   "execution_count": null,
   "id": "80a8b8a4",
   "metadata": {
    "ExecuteTime": {
     "end_time": "2023-02-27T05:54:48.388824Z",
     "start_time": "2023-02-27T05:54:48.377637Z"
    }
   },
   "outputs": [],
   "source": [
    "def sumar(a, b):\n",
    "    return a + b"
   ]
  },
  {
   "cell_type": "markdown",
   "id": "191a7850",
   "metadata": {},
   "source": [
    "Un argumento es un valor que se pasa a una función al llamarla, y que se asigna a uno de los parámetros definidos en la función. Los argumentos son los valores concretos que se utilizan para realizar una operación concreta en una función. Por ejemplo, en la siguiente llamada a la función `sumar()`, `2` y `3` son argumentos:"
   ]
  },
  {
   "cell_type": "code",
   "execution_count": null,
   "id": "15315f3c",
   "metadata": {
    "ExecuteTime": {
     "end_time": "2023-02-27T05:55:22.614706Z",
     "start_time": "2023-02-27T05:55:22.609718Z"
    }
   },
   "outputs": [],
   "source": [
    "resultado = sumar(2, 3)"
   ]
  },
  {
   "cell_type": "markdown",
   "id": "c10478f5",
   "metadata": {},
   "source": [
    "En otras palabras, los parámetros son las variables que se definen en la definición de una función, y los argumentos son los valores que se pasan a la función al llamarla y que se asignan a los parámetros definidos en la función.\n",
    "\n",
    "## Errores más comunes\n",
    "\n",
    "A continuación se presentan algunos de los errores más comunes que se pueden cometer al crear funciones en Python:\n",
    "\n",
    "### 1. Error de sintaxis en la definición de la función\n",
    "\n",
    "Este error ocurre cuando hay algún error de sintaxis en la definición de la función, como una falta de dos puntos (`:`) después del encabezado de la función o una falta de indentación en el cuerpo de la función. Por ejemplo:"
   ]
  },
  {
   "cell_type": "raw",
   "id": "2cf78051",
   "metadata": {},
   "source": [
    "# Falta dos puntos después del encabezado\n",
    "def sumar(a, b)\n",
    "    return a + b\n",
    "\n",
    "# Falta indentación en el cuerpo de la función\n",
    "def sumar(a, b):\n",
    "return a + b"
   ]
  },
  {
   "cell_type": "markdown",
   "id": "13f68ffa",
   "metadata": {},
   "source": [
    "Ambos errores provocarán un error de sintaxis al intentar definir la función.\n",
    "\n",
    "### 2. Error de sintaxis al llamar a la función\n",
    "\n",
    "Este error ocurre cuando hay algún error de sintaxis al llamar a la función, como una falta de paréntesis o un error al especificar los argumentos. Por ejemplo:"
   ]
  },
  {
   "cell_type": "raw",
   "id": "841c2085",
   "metadata": {},
   "source": [
    "# Falta el paréntesis de cierre\n",
    "resultado = sumar(2, 3\n",
    "\n",
    "# Error al especificar los argumentos\n",
    "resultado = sumar(2, 3, 4)"
   ]
  },
  {
   "cell_type": "markdown",
   "id": "02356b99",
   "metadata": {},
   "source": [
    "Ambos errores provocarán un error de sintaxis al intentar llamar a la función.\n",
    "\n",
    "### 3. Variables no definidas en el cuerpo de la función\n",
    "\n",
    "Este error ocurre cuando se intenta utilizar una variable que no ha sido definida en el cuerpo de la función. Las variables que se utilizan dentro de una función deben ser definidas dentro de la función o pasadas como argumentos. Por ejemplo:"
   ]
  },
  {
   "cell_type": "raw",
   "id": "b3592eeb",
   "metadata": {},
   "source": [
    "# La variable 'b' no está definida en el cuerpo de la función\n",
    "def sumar(a):\n",
    "    return a + b\n",
    "\n",
    "resultado = sumar(2)"
   ]
  },
  {
   "cell_type": "markdown",
   "id": "5d14e5e8",
   "metadata": {},
   "source": [
    "Este error provocará un error de `NameError` al intentar llamar a la función.\n",
    "\n",
    "### 4. Argumentos no pasados a la función\n",
    "\n",
    "Este error ocurre cuando se llama a una función sin pasar todos los argumentos necesarios. Si se omiten argumentos en una llamada a la función, se producirá un error. Por ejemplo:"
   ]
  },
  {
   "cell_type": "raw",
   "id": "23dd5cce",
   "metadata": {},
   "source": [
    "# La función espera dos argumentos, pero sólo se pasa uno\n",
    "resultado = sumar(2)"
   ]
  },
  {
   "cell_type": "markdown",
   "id": "c3d9032b",
   "metadata": {},
   "source": [
    "Este error provocará un error de TypeError al intentar llamar a la función.\n",
    "\n",
    "### 5. Uso incorrecto de variables globales\n",
    "\n",
    "Este error ocurre cuando se intenta utilizar una variable global dentro de una función sin declararla como global. Si se intenta modificar una variable global dentro de una función sin declararla como global, se creará una variable local en su lugar. Por ejemplo:"
   ]
  },
  {
   "cell_type": "raw",
   "id": "87048dfc",
   "metadata": {},
   "source": [
    "# La variable global 'a' no se declara como global dentro de la función\n",
    "a = 0\n",
    "\n",
    "def sumar(b):\n",
    "    a = a + b\n",
    "    return a\n",
    "\n",
    "resultado = sumar(2)"
   ]
  },
  {
   "cell_type": "markdown",
   "id": "0066b066",
   "metadata": {},
   "source": [
    "Este error provocará un error de `UnboundLocalError` al intentar llamar a la función.\n",
    "\n",
    "Para utilizar una variable global dentro de una función en Python, se debe declarar la variable como global dentro de la función. De esta manera, la función sabrá que la variable que se está utilizando es la variable global, y no creará una variable local con el mismo nombre.\n",
    "\n",
    "En el ejemplo anterior, se puede solucionar el error declarando la variable global `a` dentro de la función `sumar()`:"
   ]
  },
  {
   "cell_type": "code",
   "execution_count": null,
   "id": "f6237464",
   "metadata": {
    "ExecuteTime": {
     "end_time": "2023-02-27T06:05:10.944320Z",
     "start_time": "2023-02-27T06:05:10.928806Z"
    }
   },
   "outputs": [],
   "source": [
    "a = 0\n",
    "\n",
    "def sumar(b):\n",
    "    global a\n",
    "    a = a + b\n",
    "    return a\n",
    "\n",
    "resultado = sumar(2)"
   ]
  },
  {
   "cell_type": "markdown",
   "id": "b31c8cc3",
   "metadata": {},
   "source": [
    "Al declarar la variable `a` como global dentro de la función `sumar()`, se indica que la variable `a` que se está utilizando es la variable global, y no se creará una variable local con el mismo nombre.\n",
    "\n",
    "Es importante tener en cuenta que el uso de variables globales dentro de funciones puede hacer que el código sea más difícil de leer y mantener, ya que las funciones pueden afectar a variables que se utilizan en otras partes del programa. Por esta razón, se recomienda utilizar variables locales siempre que sea posible, y evitar el uso de variables globales a menos que sea absolutamente necesario.\n",
    "\n",
    "## Composición de funciones\n",
    "\n",
    "La composición de funciones es el proceso de combinar dos o más funciones para crear una nueva función. Por ejemplo, si se tienen dos funciones `f(x)` y `g(x)`, la composición de estas funciones sería `f(g(x))`, lo que significa que el resultado de `g(x)` se pasa como entrada a `f(x)`.\n",
    "\n",
    "En Python, se pueden componer funciones utilizando la sintaxis de llamada de función anidada. Por ejemplo, si se tienen dos funciones `f(x)` y `g(x)`, se puede crear una nueva función `h(x)` que sea la composición de `f(x)` y `g(x)` de la siguiente manera:"
   ]
  },
  {
   "cell_type": "code",
   "execution_count": null,
   "id": "a63bd086",
   "metadata": {
    "ExecuteTime": {
     "end_time": "2023-02-27T06:09:23.229661Z",
     "start_time": "2023-02-27T06:09:23.220639Z"
    }
   },
   "outputs": [],
   "source": [
    "def f(x):\n",
    "    return x + 1\n",
    "\n",
    "def g(x):\n",
    "    return x * 2\n",
    "\n",
    "def h(x):\n",
    "    return f(g(x))\n",
    "\n",
    "resultado = h(2)  # resultado es 5"
   ]
  },
  {
   "cell_type": "markdown",
   "id": "1fff4a27",
   "metadata": {},
   "source": [
    "En este ejemplo, la función `h(x)` es la composición de las funciones `f(x)` y `g(x)`, lo que significa que el resultado de `g(x)` se pasa como entrada a `f(x)`. La función `h(x)` toma un argumento `x`, lo pasa a `g(x)` para obtener un valor intermedio, y luego pasa ese valor intermedio a `f(x)` para obtener el resultado final.\n",
    "\n",
    "La composición de funciones puede ser útil para hacer que el código sea más modular y reutilizable, ya que permite crear funciones complejas a partir de funciones más simples y reutilizables. También puede hacer que el código sea más legible, ya que las funciones más simples se pueden entender más fácilmente que las funciones más complejas."
   ]
  },
  {
   "cell_type": "markdown",
   "id": "78d8d304",
   "metadata": {},
   "source": [
    "## Paso por valor o referencia\n",
    "\n",
    "En Python, los argumentos se pasan por valor o por referencia dependiendo del tipo de dato que se esté pasando. Sin embargo, hay una distinción importante que debemos hacer entre \"pasar por valor\" y \"pasar por referencia\" en Python:\n",
    "\n",
    "* Cuando se pasan argumentos de tipo inmutable (como enteros, flotantes, cadenas de texto), los valores se pasan por valor, lo que significa que cualquier cambio que se haga a los valores dentro de la función no se reflejará fuera de la función. Esto se debe a que los objetos inmutables no se pueden cambiar directamente.\n",
    "\n",
    "* Cuando se pasan argumentos de tipo mutable (como listas, diccionarios), los valores se pasan por referencia, lo que significa que cualquier cambio que se haga a los valores dentro de la función se reflejará fuera de la función. Esto se debe a que los objetos mutables se pueden cambiar directamente.\n",
    "\n",
    "Además, en Python también es posible pasar argumentos utilizando su nombre. Esto se llama \"paso de argumentos por nombre\". Esto significa que podemos especificar el nombre del argumento seguido de su valor al llamar a la función. Esta técnica puede ser útil para especificar argumentos opcionales en una función.\n",
    "\n",
    "Aquí hay algunos ejemplos para ilustrar estos conceptos:"
   ]
  },
  {
   "cell_type": "code",
   "execution_count": null,
   "id": "1f70a9f9",
   "metadata": {
    "ExecuteTime": {
     "end_time": "2023-02-27T06:31:15.621176Z",
     "start_time": "2023-02-27T06:31:15.609193Z"
    }
   },
   "outputs": [],
   "source": [
    "# Ejemplo de paso de argumentos por valor\n",
    "def cambiar_numero(numero):\n",
    "    numero = 10\n",
    "\n",
    "n = 5\n",
    "cambiar_numero(n)\n",
    "print(n) # Imprime 5\n",
    "\n",
    "# Ejemplo de paso de argumentos por referencia\n",
    "def agregar_elemento(lista, elemento):\n",
    "    lista.append(elemento)\n",
    "\n",
    "mi_lista = [1, 2, 3]\n",
    "agregar_elemento(mi_lista, 4)\n",
    "print(mi_lista) # Imprime [1, 2, 3, 4]"
   ]
  },
  {
   "cell_type": "markdown",
   "id": "5e50f18a",
   "metadata": {},
   "source": [
    "En el primer ejemplo, la función `cambiar_numero` recibe un argumento `numero` de tipo entero. Dentro de la función, se asigna el valor 10 al argumento `numero`. Sin embargo, este cambio no se refleja fuera de la función, porque los argumentos de tipo entero se pasan por valor.\n",
    "\n",
    "En el segundo ejemplo, la función `agregar_elemento` recibe dos argumentos: una lista y un elemento. Dentro de la función, se agrega el elemento a la lista. Como los argumentos de tipo lista se pasan por referencia, este cambio se refleja fuera de la función."
   ]
  },
  {
   "cell_type": "markdown",
   "id": "c805ad4b",
   "metadata": {},
   "source": [
    "## Manejo de excepciones\n",
    "\n",
    "El manejo de excepciones es una técnica que se utiliza para detectar y manejar errores en tiempo de ejecución. Cuando se produce un error en un programa, normalmente se detiene la ejecución del programa y se muestra un mensaje de error. Sin embargo, con el manejo de excepciones, se puede detectar el error y manejarlo de manera adecuada, sin detener la ejecución del programa.\n",
    "\n",
    "En Python, se utiliza la sintaxis `try/except` para manejar excepciones. La sintaxis básica es la siguiente:"
   ]
  },
  {
   "cell_type": "raw",
   "id": "4823e4a0",
   "metadata": {},
   "source": [
    "try:\n",
    "    # Código que puede generar una excepción\n",
    "except TipoDeExcepción:\n",
    "    # Código para manejar la excepción"
   ]
  },
  {
   "cell_type": "markdown",
   "id": "544a74d2",
   "metadata": {},
   "source": [
    "En este ejemplo, el código que puede generar una excepción se coloca dentro del bloque `try`. Si se produce una excepción durante la ejecución de este código, se salta al bloque `except`, que contiene el código para manejar la excepción.\n",
    "\n",
    "Por ejemplo, si se tiene una función que divide dos números y se quiere manejar la excepción que se produce cuando se divide por cero, se podría utilizar el siguiente código:"
   ]
  },
  {
   "cell_type": "code",
   "execution_count": null,
   "id": "8e2d865a",
   "metadata": {
    "ExecuteTime": {
     "end_time": "2023-02-27T06:11:39.552672Z",
     "start_time": "2023-02-27T06:11:39.541698Z"
    }
   },
   "outputs": [],
   "source": [
    "def dividir(a, b):\n",
    "    try:\n",
    "        resultado = a / b\n",
    "        return resultado\n",
    "    except ZeroDivisionError:\n",
    "        print(\"Error: no se puede dividir por cero\")"
   ]
  },
  {
   "cell_type": "code",
   "execution_count": null,
   "id": "01c11b8c",
   "metadata": {
    "ExecuteTime": {
     "end_time": "2023-02-27T06:12:32.835735Z",
     "start_time": "2023-02-27T06:12:32.818518Z"
    }
   },
   "outputs": [],
   "source": [
    "dividir(5, 0)"
   ]
  },
  {
   "cell_type": "markdown",
   "id": "3357a17a",
   "metadata": {},
   "source": [
    "En este ejemplo, la función `dividir(a, b)` intenta dividir `a` por `b`. Si se produce una excepción `ZeroDivisionError`, se imprime un mensaje de error. Si no se produce ninguna excepción, se devuelve el resultado de la división.\n",
    "\n",
    "El manejo de excepciones puede ser muy útil para hacer que el código sea más robusto y resistente a errores. Puede ayudar a prevenir la falla del programa y proporcionar información útil al usuario o al programador sobre lo que ha salido mal.\n",
    "\n",
    "## Ejemplo 1\n",
    "\n",
    "Se desea calcular el promedio de las calificaciones de un grupo de estudiantes. Para ello, se tienen los siguientes datos:\n",
    "\n",
    "* Una lista de nombres de estudiantes.\n",
    "* Una lista de calificaciones correspondientes a cada estudiante.\n",
    "\n",
    "El objetivo es crear una función que tome estas dos listas como entrada y devuelva un diccionario que contenga el nombre y el promedio de calificaciones de cada estudiante.\n",
    "\n",
    "Aquí te dejo el código para resolver este problema:"
   ]
  },
  {
   "cell_type": "code",
   "execution_count": null,
   "id": "b4a2d981",
   "metadata": {
    "ExecuteTime": {
     "end_time": "2023-02-27T06:15:53.379398Z",
     "start_time": "2023-02-27T06:15:53.362854Z"
    }
   },
   "outputs": [],
   "source": [
    "def calcular_promedios(nombres, calificaciones):\n",
    "    promedios = {}\n",
    "    for i in range(len(nombres)):\n",
    "        nombre = nombres[i]\n",
    "        calif = calificaciones[i]\n",
    "        promedio = sum(calif) / len(calif)\n",
    "        promedios[nombre] = promedio\n",
    "    return promedios"
   ]
  },
  {
   "cell_type": "markdown",
   "id": "a7296251",
   "metadata": {},
   "source": [
    "En este ejemplo, la función `calcular_promedios(nombres, calificaciones)` toma dos listas como argumentos: una lista de nombres de estudiantes y una lista de calificaciones correspondientes a cada estudiante. La función calcula el promedio de calificaciones de cada estudiante y devuelve un diccionario que contiene el nombre y el promedio de calificaciones de cada estudiante.\n",
    "\n",
    "Para probar la función, se podrían utilizar las siguientes listas:"
   ]
  },
  {
   "cell_type": "code",
   "execution_count": null,
   "id": "a96b2e21",
   "metadata": {
    "ExecuteTime": {
     "end_time": "2023-02-27T06:16:17.028984Z",
     "start_time": "2023-02-27T06:16:17.017527Z"
    }
   },
   "outputs": [],
   "source": [
    "nombres = [\"Juan\", \"Maria\", \"Pedro\"]\n",
    "calificaciones = [[8, 7, 9], [9, 9, 10], [7, 8, 6]]\n",
    "\n",
    "promedios = calcular_promedios(nombres, calificaciones)\n",
    "\n",
    "print(promedios)"
   ]
  },
  {
   "cell_type": "markdown",
   "id": "afea61a6",
   "metadata": {},
   "source": [
    "En este ejemplo, la lista `nombres` contiene los nombres de los estudiantes y la lista `calificaciones` contiene las calificaciones correspondientes a cada estudiante. La función `calcular_promedios` se utiliza para calcular el promedio de calificaciones de cada estudiante y se almacena el resultado en la variable `promedios`. Finalmente, se muestra el diccionario `promedios` en pantalla."
   ]
  },
  {
   "cell_type": "markdown",
   "id": "a54ebe7a",
   "metadata": {},
   "source": [
    "## Ejercicio en clase 1\n",
    "\n",
    "Se desea escribir una función que calcule la cantidad de dinero total que se gastará en un viaje en carretera. Para ello, se tienen los siguientes datos:\n",
    "\n",
    "* Una lista de ciudades que se visitarán en el viaje.\n",
    "* Una lista de distancias, en kilómetros, entre cada ciudad.\n",
    "* El consumo de gasolina del vehículo, en litros por kilómetro.\n",
    "* El precio actual de la gasolina, en pesos por litro.\n",
    "\n",
    "El objetivo es crear una función que tome estos datos como entrada y devuelva la cantidad total de dinero que se gastará en gasolina durante todo el viaje.\n",
    "\n",
    "Aquí te dejo una guía para resolver este problema:\n",
    "\n",
    "1. Define una función calcular_gasto(ciudades, distancias, consumo, precio_gasolina) que tome cuatro listas como argumentos: una lista de ciudades que se visitarán en el viaje, una lista de distancias, en kilómetros, entre cada ciudad, el consumo de gasolina del vehículo, en litros por kilómetro y el precio actual de la gasolina, en pesos por litro.\n",
    "\n",
    "2. La función debe calcular la cantidad de gasolina que se utilizará para viajar de una ciudad a otra. Para ello, se puede utilizar la fórmula gasolina = distancia * consumo.\n",
    "\n",
    "3. La función debe sumar la cantidad de gasolina que se utilizará para viajar de una ciudad a otra, para calcular el total de gasolina utilizada durante todo el viaje.\n",
    "\n",
    "4. La función debe multiplicar la cantidad total de gasolina utilizada por el precio actual de la gasolina, para calcular el total de dinero gastado en gasolina durante todo el viaje.\n",
    "\n",
    "5. La función debe devolver el total de dinero gastado en gasolina durante todo el viaje.\n",
    "\n",
    "Para probar la función, se podrían utilizar las siguientes listas:"
   ]
  },
  {
   "cell_type": "raw",
   "id": "88a907df",
   "metadata": {},
   "source": [
    "ciudades = [\"Monterrey\", \"Saltillo\", \"Torreón\", \"Durango\", \"Zacatecas\"]\n",
    "distancias = [200, 120, 250, 300, 180]\n",
    "consumo = 0.12\n",
    "precio_gasolina = 20\n",
    "\n",
    "gasto_total = calcular_gasto(ciudades, distancias, consumo, precio_gasolina)\n",
    "\n",
    "print(\"El gasto total en gasolina es de $\", gasto_total)"
   ]
  },
  {
   "cell_type": "markdown",
   "id": "08d2ea69",
   "metadata": {},
   "source": [
    "En este ejemplo, la lista `ciudades` contiene las ciudades que se visitarán en el viaje, la lista `distancias` contiene las distancias, en kilómetros, entre cada ciudad, el consumo de gasolina del vehículo es de 0.12 litros por kilómetro y el precio actual de la gasolina es de $20 por litro. La función `calcular_gasto` se utiliza para calcular el gasto total en gasolina durante todo el viaje y se muestra el resultado en pantalla."
   ]
  },
  {
   "cell_type": "code",
   "execution_count": null,
   "id": "226ccff3",
   "metadata": {},
   "outputs": [],
   "source": []
  }
 ],
 "metadata": {
  "kernelspec": {
   "display_name": "Python 3 (ipykernel)",
   "language": "python",
   "name": "python3"
  },
  "language_info": {
   "codemirror_mode": {
    "name": "ipython",
    "version": 3
   },
   "file_extension": ".py",
   "mimetype": "text/x-python",
   "name": "python",
   "nbconvert_exporter": "python",
   "pygments_lexer": "ipython3",
   "version": "3.10.9"
  },
  "varInspector": {
   "cols": {
    "lenName": 16,
    "lenType": 16,
    "lenVar": 40
   },
   "kernels_config": {
    "python": {
     "delete_cmd_postfix": "",
     "delete_cmd_prefix": "del ",
     "library": "var_list.py",
     "varRefreshCmd": "print(var_dic_list())"
    },
    "r": {
     "delete_cmd_postfix": ") ",
     "delete_cmd_prefix": "rm(",
     "library": "var_list.r",
     "varRefreshCmd": "cat(var_dic_list()) "
    }
   },
   "types_to_exclude": [
    "module",
    "function",
    "builtin_function_or_method",
    "instance",
    "_Feature"
   ],
   "window_display": false
  }
 },
 "nbformat": 4,
 "nbformat_minor": 5
}
