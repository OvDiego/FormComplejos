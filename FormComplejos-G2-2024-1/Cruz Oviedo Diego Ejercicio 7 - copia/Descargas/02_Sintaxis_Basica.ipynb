{
 "cells": [
  {
   "cell_type": "code",
   "execution_count": null,
   "id": "1adf020e",
   "metadata": {
    "ExecuteTime": {
     "end_time": "2023-02-22T21:35:28.080974Z",
     "start_time": "2023-02-22T21:35:28.064961Z"
    }
   },
   "outputs": [],
   "source": [
    "import warnings\n",
    "from IPython.display import display, HTML\n",
    "warnings.filterwarnings('ignore')\n",
    "display(HTML(\"<style>.container { width:100% !important; }</style>\"))"
   ]
  },
  {
   "cell_type": "markdown",
   "id": "f593a567",
   "metadata": {},
   "source": [
    "# Sintaxis básica de Python\n",
    "En este tema, cubriremos los conceptos básicos de la sintaxis de Python. Aprenderás sobre variables, tipos de datos, operadores y estructuras de control de flujo.\n",
    "\n",
    "## Variables y tipos de datos\n",
    "En Python, las variables son utilizadas para almacenar valores. Los tipos de datos incluyen enteros, flotantes, cadenas y booleanos. Para crear una variable, simplemente asigne un valor a un nombre:"
   ]
  },
  {
   "cell_type": "code",
   "execution_count": null,
   "id": "f692f271",
   "metadata": {
    "ExecuteTime": {
     "end_time": "2023-02-20T21:39:31.307018Z",
     "start_time": "2023-02-20T21:39:31.290525Z"
    }
   },
   "outputs": [],
   "source": [
    "# Asignar un valor entero a la variable \"x\"\n",
    "x = 5\n",
    "\n",
    "# Asignar un valor de cadena a la variable \"nombre\"\n",
    "nombre = \"Juan\"\n",
    "\n",
    "# Asignar un valor booleano a la variable \"es_verdadero\"\n",
    "es_verdadero = True"
   ]
  },
  {
   "cell_type": "markdown",
   "id": "f34044c6",
   "metadata": {},
   "source": [
    "Para actualizar una variable existente, simplemente reasígnale un nuevo valor:"
   ]
  },
  {
   "cell_type": "code",
   "execution_count": null,
   "id": "d58f8bb9",
   "metadata": {
    "ExecuteTime": {
     "end_time": "2023-02-20T21:40:16.531960Z",
     "start_time": "2023-02-20T21:40:16.520713Z"
    }
   },
   "outputs": [],
   "source": [
    "# Actualizar el valor de \"x\"\n",
    "x = 10\n",
    "\n",
    "# Actualizar el valor de \"nombre\"\n",
    "nombre = \"Ana\"\n",
    "\n",
    "# Actualizar el valor de \"es_verdadero\"\n",
    "es_verdadero = False"
   ]
  },
  {
   "cell_type": "markdown",
   "id": "50e744ee",
   "metadata": {},
   "source": [
    "## Operadores aritméticos y de comparación\n",
    "Los operadores aritméticos se utilizan para realizar operaciones matemáticas en Python. Algunos ejemplos incluyen la suma (+), resta (-), multiplicación (*), y división (/):"
   ]
  },
  {
   "cell_type": "code",
   "execution_count": null,
   "id": "a5e05314",
   "metadata": {
    "ExecuteTime": {
     "end_time": "2023-02-20T21:43:36.444749Z",
     "start_time": "2023-02-20T21:43:36.436732Z"
    }
   },
   "outputs": [],
   "source": [
    "# Suma\n",
    "resultado = 5 + 2\n",
    "print(resultado) # resultado: 7\n",
    "\n",
    "# Resta\n",
    "resultado = 10 - 3\n",
    "print(resultado) # resultado: 7\n",
    "\n",
    "# Multiplicación\n",
    "resultado = 3 * 4\n",
    "print(resultado) # resultado: 12\n",
    "\n",
    "# División\n",
    "resultado = 15 / 3\n",
    "print(resultado) # resultado: 5.0\n",
    "\n",
    "# Módulo\n",
    "resultado = 7 % 3\n",
    "print(resultado) # resultado: 1\n",
    "\n",
    "#Potencia\n",
    "resultado = 2**4\n",
    "print(resultado) # resultado: 16\n",
    "\n",
    "#División entera\n",
    "resultado = 7 // 3\n",
    "print(resultado) # resultado: 2"
   ]
  },
  {
   "cell_type": "markdown",
   "id": "ba77bba2",
   "metadata": {},
   "source": [
    "Los operadores de comparación se utilizan para comparar dos valores y producen un resultado booleano (True o False). Algunos ejemplos incluyen mayor que (>), menor que (<), igual a (==), y diferente a (!=):"
   ]
  },
  {
   "cell_type": "code",
   "execution_count": null,
   "id": "df105172",
   "metadata": {
    "ExecuteTime": {
     "end_time": "2023-02-20T21:45:59.394998Z",
     "start_time": "2023-02-20T21:45:59.384763Z"
    }
   },
   "outputs": [],
   "source": [
    "# Mayor que\n",
    "resultado = 5 > 2\n",
    "print(resultado) # resultado: True\n",
    "\n",
    "# Menor que\n",
    "resultado = 10 < 3\n",
    "print(resultado) # resultado: False\n",
    "\n",
    "# Igual a\n",
    "resultado = 3 == 3\n",
    "print(resultado) # resultado: True\n",
    "\n",
    "# Diferente a\n",
    "resultado = 15 != 3\n",
    "print(resultado) # resultado: True\n",
    "\n",
    "# Mayor o igual que\n",
    "resultado = 15 >= 3\n",
    "print(resultado) # resultado: True\n",
    "\n",
    "# Menor o igual que\n",
    "resultado = 15 <= 3\n",
    "print(resultado) # resultado: False"
   ]
  },
  {
   "cell_type": "markdown",
   "id": "9518c5e3",
   "metadata": {},
   "source": [
    "## Estructuras de control de flujo\n",
    "Las estructuras de control de flujo se utilizan para controlar el flujo de un programa. En Python, las estructuras if, while y for son comúnmente utilizadas.\n",
    "\n",
    "### Declaración if\n",
    "La estructura if se utiliza para ejecutar un bloque de código si se cumple una condición. La sintaxis básica de la estructura if es la siguiente:"
   ]
  },
  {
   "cell_type": "raw",
   "id": "99ac489e",
   "metadata": {},
   "source": [
    "if condicion:\n",
    "    # codigo que se ejecuta si la condicion es verdadera\n",
    "else:\n",
    "    # codigo que se ejecuta si la condicion es falsa"
   ]
  },
  {
   "cell_type": "markdown",
   "id": "6e932e7d",
   "metadata": {},
   "source": [
    "Por ejemplo, si queremos verificar si un número es positivo o negativo, podemos usar la estructura if de la siguiente manera:"
   ]
  },
  {
   "cell_type": "code",
   "execution_count": null,
   "id": "974c1a1c",
   "metadata": {
    "ExecuteTime": {
     "end_time": "2023-02-20T21:52:47.521805Z",
     "start_time": "2023-02-20T21:52:47.513778Z"
    }
   },
   "outputs": [],
   "source": [
    "numero = -5\n",
    "\n",
    "if numero > 0:\n",
    "    print(\"El número es positivo\")\n",
    "else:\n",
    "    print(\"El número es negativo\")\n"
   ]
  },
  {
   "cell_type": "markdown",
   "id": "e93aad2e",
   "metadata": {},
   "source": [
    "### Declaración while\n",
    "La estructura while se utiliza para ejecutar un bloque de código repetidamente mientras se cumpla una condición. La sintaxis básica de la estructura while es la siguiente:"
   ]
  },
  {
   "cell_type": "raw",
   "id": "a0871c83",
   "metadata": {},
   "source": [
    "while condicion:\n",
    "    # codigo que se ejecuta mientras la condicion sea verdadera"
   ]
  },
  {
   "cell_type": "markdown",
   "id": "5e35e8b0",
   "metadata": {},
   "source": [
    "Por ejemplo, si queremos imprimir los números del 1 al 5, podemos usar la estructura while de la siguiente manera:"
   ]
  },
  {
   "cell_type": "code",
   "execution_count": null,
   "id": "7a58453d",
   "metadata": {
    "ExecuteTime": {
     "end_time": "2023-02-20T21:59:44.865177Z",
     "start_time": "2023-02-20T21:59:44.851382Z"
    }
   },
   "outputs": [],
   "source": [
    "contador = 1\n",
    "\n",
    "while contador <= 5:\n",
    "    print(contador)\n",
    "    contador += 1 #contador=contador+1\n",
    "print('Final')"
   ]
  },
  {
   "cell_type": "markdown",
   "id": "5280a6e2",
   "metadata": {},
   "source": [
    "### Declaración for\n",
    "La estructura for se utiliza para iterar sobre una secuencia, como una lista o una tupla. La sintaxis básica de la estructura for es la siguiente:"
   ]
  },
  {
   "cell_type": "markdown",
   "id": "c0e6ece1",
   "metadata": {},
   "source": [
    "for elemento in secuencia:\n",
    "    # codigo que se ejecuta para cada elemento en la secuencia"
   ]
  },
  {
   "cell_type": "markdown",
   "id": "5c09829d",
   "metadata": {},
   "source": [
    "Por ejemplo, si queremos imprimir los elementos de una lista, podemos usar la estructura for de la siguiente manera:"
   ]
  },
  {
   "cell_type": "code",
   "execution_count": null,
   "id": "81862381",
   "metadata": {
    "ExecuteTime": {
     "end_time": "2023-02-20T22:03:22.941729Z",
     "start_time": "2023-02-20T22:03:22.931911Z"
    }
   },
   "outputs": [],
   "source": [
    "numeros = [1, 2, 3, 4, 5]\n",
    "\n",
    "for numero in numeros:\n",
    "    print(numero)"
   ]
  },
  {
   "cell_type": "code",
   "execution_count": null,
   "id": "21ac9f61",
   "metadata": {
    "ExecuteTime": {
     "end_time": "2023-02-20T22:09:09.952708Z",
     "start_time": "2023-02-20T22:09:09.944582Z"
    }
   },
   "outputs": [],
   "source": [
    "for i in range(5):\n",
    "    print(i)"
   ]
  },
  {
   "cell_type": "code",
   "execution_count": null,
   "id": "33db3bf6",
   "metadata": {
    "ExecuteTime": {
     "end_time": "2023-02-20T22:10:06.422837Z",
     "start_time": "2023-02-20T22:10:06.411114Z"
    }
   },
   "outputs": [],
   "source": [
    "for i in range(4,10):\n",
    "    print(i)"
   ]
  },
  {
   "cell_type": "code",
   "execution_count": null,
   "id": "5936f859",
   "metadata": {
    "ExecuteTime": {
     "end_time": "2023-02-20T22:11:31.089884Z",
     "start_time": "2023-02-20T22:11:31.080223Z"
    }
   },
   "outputs": [],
   "source": [
    "for i in range(3,10,2):\n",
    "    print(i)"
   ]
  },
  {
   "cell_type": "code",
   "execution_count": null,
   "id": "bdd3565b",
   "metadata": {
    "ExecuteTime": {
     "end_time": "2023-02-20T22:14:03.246710Z",
     "start_time": "2023-02-20T22:14:03.230226Z"
    }
   },
   "outputs": [],
   "source": [
    "for i in range(3,10,-2):\n",
    "    print(i)"
   ]
  },
  {
   "cell_type": "code",
   "execution_count": null,
   "id": "85df23aa",
   "metadata": {
    "ExecuteTime": {
     "end_time": "2023-02-20T22:15:06.417711Z",
     "start_time": "2023-02-20T22:15:06.394489Z"
    }
   },
   "outputs": [],
   "source": [
    "for i in range(10,0,-1):\n",
    "    print(i)"
   ]
  },
  {
   "cell_type": "markdown",
   "id": "ab213761",
   "metadata": {},
   "source": [
    "Dentro de la estructura for, podemos realizar diversas operaciones, como sumar todos los elementos de una lista:"
   ]
  },
  {
   "cell_type": "code",
   "execution_count": null,
   "id": "0f01144b",
   "metadata": {
    "ExecuteTime": {
     "end_time": "2023-02-20T22:18:12.369908Z",
     "start_time": "2023-02-20T22:18:12.360606Z"
    }
   },
   "outputs": [],
   "source": [
    "numeros = [1, 2, 3, 4, 5]\n",
    "suma = 0\n",
    "\n",
    "for numero in numeros:\n",
    "    suma += numero #suma=suma+numero\n",
    "\n",
    "print(suma) # resultado: 15"
   ]
  },
  {
   "cell_type": "markdown",
   "id": "619cbaf2",
   "metadata": {},
   "source": [
    "### Ejemplo\n",
    "Escribe un programa que solicite al usuario ingresar dos números enteros, los multiplique y muestre el resultado en la pantalla.\n",
    "\n",
    "#### Ejemplo de entrada/salida:"
   ]
  },
  {
   "cell_type": "raw",
   "id": "fa3f2688",
   "metadata": {
    "ExecuteTime": {
     "end_time": "2023-02-20T03:09:48.303864Z",
     "start_time": "2023-02-20T03:09:48.296848Z"
    }
   },
   "source": [
    "Ingresa el primer número: 3\n",
    "Ingresa el segundo número: 5\n",
    "El resultado de la multiplicación es: 15"
   ]
  },
  {
   "cell_type": "markdown",
   "id": "9050e245",
   "metadata": {},
   "source": [
    "Para resolver este ejercicio, debes utilizar las operaciones de entrada y salida en Python, junto con la operación de multiplicación (*). Aquí te presento un posible código de solución:"
   ]
  },
  {
   "cell_type": "code",
   "execution_count": null,
   "id": "d43578c3",
   "metadata": {
    "ExecuteTime": {
     "end_time": "2023-02-20T22:37:54.762256Z",
     "start_time": "2023-02-20T22:37:50.614336Z"
    }
   },
   "outputs": [],
   "source": [
    "# Solicita al usuario que ingrese el primer número y lo guarda en la variable \"numero1\"\n",
    "numero1 = int(input(\"Ingresa el primer número: \"))\n",
    "\n",
    "# Solicita al usuario que ingrese el segundo número y lo guarda en la variable \"numero2\"\n",
    "numero2 = int(input(\"Ingresa el segundo número: \"))\n",
    "\n",
    "# Multiplica los dos números y guarda el resultado en la variable \"resultado\"\n",
    "resultado = numero1 * numero2\n",
    "\n",
    "# Muestra el resultado en la pantalla\n",
    "print(\"El resultado de la multiplicación es:\", resultado)"
   ]
  },
  {
   "cell_type": "markdown",
   "id": "1ce6cc9a",
   "metadata": {},
   "source": [
    "### Ejercicio 1\n",
    "Escribe un programa que solicite al usuario ingresar un número entero positivo y calcule su factorial. El factorial de un número entero positivo n se define como el producto de todos los enteros desde 1 hasta n. Por ejemplo, el factorial de 5 es 5 * 4 * 3 * 2 * 1 = 120.\n",
    "\n",
    "#### Ejemplo de entrada/salida:"
   ]
  },
  {
   "cell_type": "raw",
   "id": "9ad5a4c2",
   "metadata": {},
   "source": [
    "Ingresa un número entero positivo: 5\n",
    "El factorial de 5 es: 120"
   ]
  },
  {
   "cell_type": "markdown",
   "id": "d6913d5a",
   "metadata": {},
   "source": [
    "Para resolver este ejercicio, debes utilizar un ciclo for para iterar desde 1 hasta el número ingresado por el usuario, y acumular el producto de los números en una variable."
   ]
  },
  {
   "cell_type": "code",
   "execution_count": null,
   "id": "b32c0d21",
   "metadata": {
    "ExecuteTime": {
     "end_time": "2023-02-22T21:44:56.661258Z",
     "start_time": "2023-02-22T21:44:54.445814Z"
    }
   },
   "outputs": [],
   "source": [
    "num=int(input('Ingresa un número entero positivo: '))\n",
    "factorial=1\n",
    "for i in range(1,num+1):\n",
    "    pass\n",
    "    factorial=factorial*i #factorial*=i\n",
    "print(f'El factorial de {num} es: {factorial}')"
   ]
  },
  {
   "cell_type": "markdown",
   "id": "b6adef93",
   "metadata": {},
   "source": [
    "### Ejercicio 2\n",
    "Escribe un programa que solicite al usuario ingresar un número entero positivo y calcule la suma de los factoriales de todos los números impares desde 1 hasta el número ingresado. Por ejemplo, si el usuario ingresa 5, el programa debe calcular 1! + 3! + 5!.\n",
    "\n",
    "#### Ejemplo de entrada/salida:"
   ]
  },
  {
   "cell_type": "raw",
   "id": "e8637ed5",
   "metadata": {},
   "source": [
    "Ingresa un número entero positivo: 5\n",
    "La suma de los factoriales de los números impares desde 1 hasta 5 es: 127"
   ]
  },
  {
   "cell_type": "markdown",
   "id": "edb31376",
   "metadata": {},
   "source": [
    "Para resolver este ejercicio, debes utilizar un ciclo for para iterar desde 1 hasta el número ingresado por el usuario, y acumular el producto de los números impares en una variable. Luego, debes calcular el factorial de cada número impar utilizando otro ciclo for y sumar los resultados. "
   ]
  },
  {
   "cell_type": "code",
   "execution_count": null,
   "id": "81a1626b",
   "metadata": {
    "ExecuteTime": {
     "end_time": "2023-02-22T21:51:26.646734Z",
     "start_time": "2023-02-22T21:51:23.202470Z"
    }
   },
   "outputs": [],
   "source": [
    "num=int(input('Ingresa un número entero positivo: '))\n",
    "suma=0\n",
    "for i in range(1,num+1,2):\n",
    "    factorial=1\n",
    "    for j in range(1,i+1):\n",
    "        factorial=factorial*j\n",
    "    suma+=factorial\n",
    "print(f'La suma de los factoriales de los números impares desde 1 hasta {num} es: {suma}')"
   ]
  },
  {
   "cell_type": "markdown",
   "id": "39932d5c",
   "metadata": {},
   "source": [
    "## Estructuras de datos en Python\n",
    "Python tiene varios tipos de estructuras de datos integrados que se utilizan para almacenar y organizar datos en un programa. Las estructuras de datos más comunes en Python son las listas, tuplas, sets, frozensets y diccionarios.\n",
    "\n",
    "### Listas\n",
    "Una lista en Python es una estructura de datos que se utiliza para almacenar una colección de elementos en un orden específico. Las listas son mutables, lo que significa que los elementos de la lista pueden cambiar después de que se ha creado. Los elementos de una lista pueden ser de diferentes tipos de datos, como números, cadenas de texto y booleanos. Las listas se representan con corchetes [] y los elementos se separan por comas.\n",
    "\n",
    "Aquí te presento un ejemplo de cómo crear y trabajar con una lista en Python:"
   ]
  },
  {
   "cell_type": "code",
   "execution_count": null,
   "id": "3c2f45e6",
   "metadata": {
    "ExecuteTime": {
     "end_time": "2023-02-22T22:04:57.823660Z",
     "start_time": "2023-02-22T22:04:57.815851Z"
    }
   },
   "outputs": [],
   "source": [
    "# Crear una lista de números\n",
    "numeros = [1, 2, 3, 4, 5]\n",
    "\n",
    "# Acceder al primer elemento de la lista\n",
    "print(numeros[0])  # Salida: 1\n",
    "\n",
    "# Modificar el segundo elemento de la lista\n",
    "numeros[1] = 10\n",
    "\n",
    "# Añadir un elemento al final de la lista\n",
    "numeros.append(6)\n",
    "\n",
    "# Eliminar el tercer elemento de la lista\n",
    "del numeros[2]\n",
    "\n",
    "# Mostrar la lista completa\n",
    "print(numeros)  # Salida: [1, 10, 4, 5, 6]"
   ]
  },
  {
   "cell_type": "code",
   "execution_count": null,
   "id": "8c11f55a",
   "metadata": {
    "ExecuteTime": {
     "end_time": "2023-02-22T22:28:07.111502Z",
     "start_time": "2023-02-22T22:27:45.951351Z"
    }
   },
   "outputs": [],
   "source": [
    "lista=[]\n",
    "res=''\n",
    "while res!='salir':\n",
    "    res=input('Que producto quieres agregar? ')\n",
    "    if res!='salir':\n",
    "        lista.append(res)\n",
    "print(lista)"
   ]
  },
  {
   "cell_type": "markdown",
   "id": "20f7906d",
   "metadata": {},
   "source": [
    "### Tuplas\n",
    "Una tupla en Python es una estructura de datos que se utiliza para almacenar una colección de elementos en un orden específico. A diferencia de las listas, las tuplas son inmutables, lo que significa que los elementos de la tupla no pueden cambiar después de que se ha creado. Los elementos de una tupla pueden ser de diferentes tipos de datos, como números, cadenas de texto y booleanos. Las tuplas se representan con paréntesis () y los elementos se separan por comas.\n",
    "\n",
    "Aquí te presento un ejemplo de cómo crear y trabajar con una tupla en Python:"
   ]
  },
  {
   "cell_type": "code",
   "execution_count": null,
   "id": "4ce95a05",
   "metadata": {
    "ExecuteTime": {
     "end_time": "2023-02-22T22:31:03.153303Z",
     "start_time": "2023-02-22T22:31:03.148296Z"
    }
   },
   "outputs": [],
   "source": [
    "# Crear una tupla de números\n",
    "numeros = (1, 2, 3, 4, 5)\n",
    "\n",
    "# Acceder al primer elemento de la tupla\n",
    "print(numeros[0])  # Salida: 1\n",
    "\n",
    "# Mostrar la tupla completa\n",
    "print(numeros)  # Salida: (1, 2, 3, 4, 5)"
   ]
  },
  {
   "cell_type": "markdown",
   "id": "beb9b2d2",
   "metadata": {},
   "source": [
    "### Sets\n",
    "Un set en Python es una estructura de datos que se utiliza para almacenar una colección de elementos únicos sin un orden específico. Los elementos de un set pueden ser de diferentes tipos de datos, como números, cadenas de texto y booleanos. Los sets son mutables, lo que significa que los elementos del set pueden cambiar después de que se ha creado. Los sets se representan con llaves {} o con la función set().\n",
    "\n",
    "Aquí te presento un ejemplo de cómo crear y trabajar con un set en Python:"
   ]
  },
  {
   "cell_type": "code",
   "execution_count": null,
   "id": "80064984",
   "metadata": {
    "ExecuteTime": {
     "end_time": "2023-02-22T22:33:58.616742Z",
     "start_time": "2023-02-22T22:33:58.601901Z"
    }
   },
   "outputs": [],
   "source": [
    "# Crear un set de números\n",
    "numeros = {1, 2, 3, 4, 5}\n",
    "\n",
    "# Añadir un elemento al set\n",
    "numeros.add(6)\n",
    "\n",
    "# Eliminar un elemento del set\n",
    "numeros.remove(3)\n",
    "\n",
    "# Mostrar el set completo\n",
    "print(numeros)  # Salida: {1, 2, 4, 5, 6}"
   ]
  },
  {
   "cell_type": "code",
   "execution_count": null,
   "id": "a2eeea57",
   "metadata": {
    "ExecuteTime": {
     "end_time": "2023-02-22T22:35:37.373456Z",
     "start_time": "2023-02-22T22:35:37.360457Z"
    }
   },
   "outputs": [],
   "source": [
    "letras={'a','b','c','a'}\n",
    "letras.remove('c')\n",
    "letras"
   ]
  },
  {
   "cell_type": "markdown",
   "id": "a0efed07",
   "metadata": {},
   "source": [
    "### Frozensets\n",
    "Un frozenset en Python es una estructura de datos inmutable que se utiliza para almacenar una colección de elementos únicos sin un orden específico. Los elementos de un frozenset pueden ser de diferentes tipos de datos, como números, cadenas de texto y booleanos. Los frozensets son inmutables, lo que significa que los elementos del frozenset no pueden cambiar después de que se ha creado. Los frozensets se representan con llaves {} o con la función frozenset().\n",
    "\n",
    "Aquí te presento un ejemplo de cómo crear y trabajar con un frozenset en Python:"
   ]
  },
  {
   "cell_type": "code",
   "execution_count": null,
   "id": "47a71bff",
   "metadata": {
    "ExecuteTime": {
     "end_time": "2023-02-20T19:57:34.504275Z",
     "start_time": "2023-02-20T19:57:34.498278Z"
    }
   },
   "outputs": [],
   "source": [
    "# Crear un frozenset de números\n",
    "numeros = frozenset({1, 2, 3, 4, 5})\n",
    "\n",
    "# Acceder al primer elemento del frozenset\n",
    "print(list(numeros)[0])  # Salida: 1\n",
    "\n",
    "# Mostrar el frozenset completo\n",
    "print(numeros)  # Salida: frozenset({1, 2, 3, 4, 5})"
   ]
  },
  {
   "cell_type": "markdown",
   "id": "71094416",
   "metadata": {},
   "source": [
    "### Diccionarios\n",
    "Un diccionario en Python es una estructura de datos que se utiliza para almacenar pares clave-valor. Cada clave debe ser única en un diccionario, y los valores pueden ser de diferentes tipos de datos, como números, cadenas de texto y booleanos. Los diccionarios son mutables, lo que significa que los valores de un diccionario pueden cambiar después de que se ha creado. Los diccionarios se representan con llaves {} y los pares clave-valor se separan por comas.\n",
    "\n",
    "Aquí te presento un ejemplo de cómo crear y trabajar con un diccionario en Python:"
   ]
  },
  {
   "cell_type": "code",
   "execution_count": null,
   "id": "35ee02b1",
   "metadata": {
    "ExecuteTime": {
     "end_time": "2023-02-22T22:54:34.292039Z",
     "start_time": "2023-02-22T22:54:34.278032Z"
    }
   },
   "outputs": [],
   "source": [
    "# Crear un diccionario de frutas y sus precios\n",
    "precios_frutas = {\"manzana\": 0.5, \"naranja\": 0.8, \"platano\": 0.2}\n",
    "\n",
    "# Acceder al precio de una fruta\n",
    "print(precios_frutas[\"naranja\"])  # Salida: 0.8\n",
    "\n",
    "# Modificar el precio de una fruta\n",
    "precios_frutas[\"manzana\"] = 0.6\n",
    "\n",
    "# Añadir una nueva fruta y su precio al diccionario\n",
    "precios_frutas[\"mango\"] = 1.2\n",
    "\n",
    "# Eliminar una fruta y su precio del diccionario\n",
    "del precios_frutas[\"platano\"]\n",
    "\n",
    "# Mostrar el diccionario completo\n",
    "print(precios_frutas)  # Salida: {\"manzana\": 0.6, \"naranja\": 0.8, \"mango\": 1.2}"
   ]
  },
  {
   "cell_type": "code",
   "execution_count": null,
   "id": "f45b1399",
   "metadata": {
    "ExecuteTime": {
     "end_time": "2023-02-22T22:55:53.834999Z",
     "start_time": "2023-02-22T22:55:53.820973Z"
    }
   },
   "outputs": [],
   "source": [
    "for i in precios_frutas:\n",
    "    print(i)"
   ]
  },
  {
   "cell_type": "code",
   "execution_count": null,
   "id": "a34e7e1c",
   "metadata": {
    "ExecuteTime": {
     "end_time": "2023-02-22T22:56:27.633357Z",
     "start_time": "2023-02-22T22:56:27.614565Z"
    }
   },
   "outputs": [],
   "source": [
    "for i in precios_frutas.keys():\n",
    "    print(i)"
   ]
  },
  {
   "cell_type": "code",
   "execution_count": null,
   "id": "fb4e65c2",
   "metadata": {
    "ExecuteTime": {
     "end_time": "2023-02-22T22:57:17.308369Z",
     "start_time": "2023-02-22T22:57:17.303382Z"
    }
   },
   "outputs": [],
   "source": [
    "for key in precios_frutas.keys():\n",
    "    print(key)"
   ]
  },
  {
   "cell_type": "code",
   "execution_count": null,
   "id": "d761b324",
   "metadata": {
    "ExecuteTime": {
     "end_time": "2023-02-22T22:57:48.668443Z",
     "start_time": "2023-02-22T22:57:48.656473Z"
    }
   },
   "outputs": [],
   "source": [
    "for value in precios_frutas.values():\n",
    "    print(value)"
   ]
  },
  {
   "cell_type": "code",
   "execution_count": null,
   "id": "2a6dcc92",
   "metadata": {
    "ExecuteTime": {
     "end_time": "2023-02-22T22:58:27.504805Z",
     "start_time": "2023-02-22T22:58:27.487519Z"
    }
   },
   "outputs": [],
   "source": [
    "for key,value in precios_frutas.items():\n",
    "    print(key,value)"
   ]
  },
  {
   "cell_type": "code",
   "execution_count": null,
   "id": "341e9f89",
   "metadata": {
    "ExecuteTime": {
     "end_time": "2023-02-22T23:00:08.945148Z",
     "start_time": "2023-02-22T23:00:08.936858Z"
    }
   },
   "outputs": [],
   "source": [
    "for fruta,precio in precios_frutas.items():\n",
    "    print(fruta,precio)"
   ]
  },
  {
   "cell_type": "markdown",
   "id": "f6bf459f",
   "metadata": {},
   "source": [
    "### Listas anidadas\n",
    "En Python, una lista anidada es una lista que contiene otras listas dentro de ella. Es decir, los elementos de la lista pueden ser otras listas en lugar de valores simples como números o cadenas de texto. Estas listas anidadas se utilizan para organizar datos en una estructura jerárquica, donde cada elemento puede tener uno o varios subelementos.\n",
    "\n",
    "Por ejemplo, podríamos tener una lista de personas, donde cada persona es una lista que contiene su nombre, edad y una lista de sus pasatiempos. La lista de pasatiempos, a su vez, podría contener varias cadenas de texto que representan los diferentes pasatiempos de esa persona.\n",
    "\n",
    "Aquí te presento un ejemplo de cómo crear y trabajar con una lista anidada en Python:"
   ]
  },
  {
   "cell_type": "code",
   "execution_count": null,
   "id": "f25da160",
   "metadata": {
    "ExecuteTime": {
     "end_time": "2023-02-22T23:07:34.411485Z",
     "start_time": "2023-02-22T23:07:34.400094Z"
    }
   },
   "outputs": [],
   "source": [
    "# Crear una lista de personas\n",
    "personas = [\n",
    "    [\"Juan\", 25, [\"fútbol\", \"videojuegos\"]],\n",
    "    [\"María\", 30, [\"leer\", \"hacer yoga\", \"jardinería\"]],\n",
    "    [\"Pedro\", 20, [\"música\", \"senderismo\"]]\n",
    "]\n",
    "\n",
    "# Acceder al primer elemento de la lista\n",
    "print(personas[0])  # Salida: [\"Juan\", 25, [\"fútbol\", \"videojuegos\"]]\n",
    "\n",
    "# Acceder al nombre de la segunda persona\n",
    "print(personas[1][0])  # Salida: \"María\"\n",
    "\n",
    "# Acceder al segundo pasatiempo de la tercera persona\n",
    "print(personas[2][2][1])  # Salida: \"senderismo\"\n",
    "\n",
    "# Modificar el primer pasatiempo de la segunda persona\n",
    "personas[1][2][0] = \"escribir poesía\"\n",
    "\n",
    "# Mostrar la lista completa de personas\n",
    "print(personas)"
   ]
  },
  {
   "cell_type": "markdown",
   "id": "31ad0502",
   "metadata": {},
   "source": [
    "Como se puede ver en el ejemplo, acceder a los elementos de una lista anidada puede ser un poco más complejo que acceder a los elementos de una lista simple. Sin embargo, las listas anidadas son una herramienta útil para organizar datos en una estructura jerárquica y pueden ayudar a hacer que el código sea más legible y fácil de entender."
   ]
  },
  {
   "cell_type": "markdown",
   "id": "b783e292",
   "metadata": {},
   "source": [
    "### Usando diccionarios y listas\n",
    "En Python, podemos mezclar diccionarios con listas para crear estructuras de datos más complejas y flexibles. Esto se debe a que las listas y los diccionarios tienen diferentes fortalezas y debilidades que se pueden aprovechar al combinarlos.\n",
    "\n",
    "Por ejemplo, podemos crear una lista de diccionarios, donde cada diccionario representa un objeto o una entidad y la lista representa una colección de estos objetos. Cada diccionario puede contener una serie de pares clave-valor, donde las claves son las propiedades del objeto y los valores son los valores de esas propiedades. De esta manera, podemos almacenar una gran cantidad de información en una sola estructura de datos.\n",
    "\n",
    "Aquí te presento un ejemplo de cómo crear y trabajar con una lista de diccionarios en Python:"
   ]
  },
  {
   "cell_type": "code",
   "execution_count": null,
   "id": "2a8655d3",
   "metadata": {
    "ExecuteTime": {
     "end_time": "2023-02-22T23:10:36.668613Z",
     "start_time": "2023-02-22T23:10:36.652519Z"
    }
   },
   "outputs": [],
   "source": [
    "# Crear una lista de diccionarios que representan personas\n",
    "personas = [\n",
    "    {\"nombre\": \"Juan\", \"edad\": 25, \"pasatiempos\": [\"fútbol\", \"videojuegos\"]},\n",
    "    {\"nombre\": \"María\", \"edad\": 30, \"pasatiempos\": [\"leer\", \"hacer yoga\", \"jardinería\"]},\n",
    "    {\"nombre\": \"Pedro\", \"edad\": 20, \"pasatiempos\": [\"música\", \"senderismo\"]}\n",
    "]\n",
    "\n",
    "# Acceder a la edad de la primera persona\n",
    "print(personas[0][\"edad\"])  # Salida: 25\n",
    "\n",
    "# Acceder al segundo pasatiempo de la tercera persona\n",
    "print(personas[2][\"pasatiempos\"][1])  # Salida: \"senderismo\"\n",
    "\n",
    "# Modificar el primer pasatiempo de la segunda persona\n",
    "personas[1][\"pasatiempos\"][0] = \"escribir poesía\"\n",
    "\n",
    "# Mostrar la lista completa de personas\n",
    "print(personas)"
   ]
  },
  {
   "cell_type": "markdown",
   "id": "a7bf55d2",
   "metadata": {},
   "source": [
    "Como se puede ver en el ejemplo, mezclar diccionarios con listas puede ser una forma muy útil de almacenar y organizar datos complejos. Al usar diccionarios, podemos asignar nombres a las propiedades de un objeto y hacer que el código sea más fácil de leer y entender. Al mismo tiempo, al utilizar listas, podemos almacenar múltiples objetos en una sola estructura de datos y realizar operaciones en ellos fácilmente."
   ]
  },
  {
   "cell_type": "markdown",
   "id": "82f283ae",
   "metadata": {},
   "source": [
    "### Función Sorted()\n",
    "\n",
    "La función sorted() se utiliza para ordenar una lista o cualquier otra secuencia (tupla, set, etc.) en orden ascendente o descendente. La función devuelve una nueva lista ordenada que contiene todos los elementos de la secuencia original.\n",
    "\n",
    "La sintaxis básica de la función sorted() es la siguiente:"
   ]
  },
  {
   "cell_type": "raw",
   "id": "5b448142",
   "metadata": {},
   "source": [
    "sorted(secuencia, key=None, reverse=False)"
   ]
  },
  {
   "cell_type": "markdown",
   "id": "d26d8f01",
   "metadata": {},
   "source": [
    "Donde:\n",
    "\n",
    "`secuencia`: La secuencia que se va a ordenar.</br>\n",
    "`key`: Una función opcional que se utiliza para personalizar el ordenamiento. Por defecto, None, lo que significa que se utiliza el ordenamiento natural.</br>\n",
    "`reverse`: Un valor booleano opcional que indica si se debe ordenar en orden descendente (True) o ascendente (False). Por defecto, es False.</br>\n",
    "\n",
    "La función sorted() también se puede utilizar con un argumento clave (key) para ordenar una secuencia en función de un atributo o elemento específico de la secuencia.\n",
    "\n",
    "Aquí tienes algunos ejemplos de cómo se puede utilizar la función sorted() en Python:\n",
    "\n",
    "#### Ejemplo 1: Ordenar una lista de números en orden ascendente"
   ]
  },
  {
   "cell_type": "code",
   "execution_count": null,
   "id": "63834279",
   "metadata": {
    "ExecuteTime": {
     "end_time": "2023-02-20T20:29:21.596372Z",
     "start_time": "2023-02-20T20:29:21.587693Z"
    }
   },
   "outputs": [],
   "source": [
    "numeros = [3, 1, 4, 1, 5, 9, 2, 6, 5, 3, 5]\n",
    "numeros_ordenados = sorted(numeros)\n",
    "print(numeros_ordenados)"
   ]
  },
  {
   "cell_type": "markdown",
   "id": "c048a863",
   "metadata": {},
   "source": [
    "#### Ejemplo 2: Ordenar una lista de palabras en orden descendente"
   ]
  },
  {
   "cell_type": "code",
   "execution_count": null,
   "id": "591048ce",
   "metadata": {
    "ExecuteTime": {
     "end_time": "2023-02-22T23:13:11.197360Z",
     "start_time": "2023-02-22T23:13:11.186397Z"
    }
   },
   "outputs": [],
   "source": [
    "palabras = [\"python\", \"es\", \"un\", \"lenguaje\", \"de\", \"programación\"]\n",
    "palabras_ordenadas = sorted(palabras, reverse=True)\n",
    "print(palabras_ordenadas)"
   ]
  },
  {
   "cell_type": "markdown",
   "id": "bea85010",
   "metadata": {},
   "source": [
    "#### Ejemplo 3: Ordenar una lista de diccionarios en función de un atributo específico"
   ]
  },
  {
   "cell_type": "code",
   "execution_count": null,
   "id": "ce5b1c23",
   "metadata": {
    "ExecuteTime": {
     "end_time": "2023-02-22T23:14:14.888204Z",
     "start_time": "2023-02-22T23:14:14.877200Z"
    }
   },
   "outputs": [],
   "source": [
    "palabras = [\"Python\", \"es\", \"un\", \"lenguaje\", \"de\", \"programación\"]\n",
    "palabras_ordenadas = sorted(palabras, key=len)\n",
    "print(palabras_ordenadas)"
   ]
  },
  {
   "cell_type": "markdown",
   "id": "c2f6e3f8",
   "metadata": {},
   "source": [
    "### Ejemplo 1: Crear un programa de gestión de contactos\n",
    "Escribe un programa que permita al usuario almacenar y gestionar una lista de contactos. El programa debe permitir al usuario realizar las siguientes operaciones:\n",
    "\n",
    "1.- Añadir un nuevo contacto</br>\n",
    "2.- Eliminar un contacto existente</br>\n",
    "3.- Mostrar todos los contactos</br>\n",
    "4.- Buscar un contacto por nombre</br>\n",
    "5.- Salir del programa</br>\n",
    "</br>\n",
    "Cada contacto debe tener los siguientes campos:</br>\n",
    "</br>\n",
    "Nombre completo</br>\n",
    "Dirección de correo electrónico</br>\n",
    "Número de teléfono</br>\n",
    "\n",
    "Los contactos deben almacenarse en una lista de diccionarios, donde cada diccionario representa un contacto.</br>\n",
    "\n",
    "El programa debe mostrar un menú al usuario y permitirle seleccionar una opción ingresando el número correspondiente. Si el usuario selecciona la opción 1, debe poder ingresar los detalles del nuevo contacto (nombre, correo electrónico y número de teléfono) y agregarlo a la lista de contactos. Si el usuario selecciona la opción 2, debe poder buscar un contacto por nombre y eliminarlo de la lista de contactos. Si el usuario selecciona la opción 3, debe poder mostrar todos los contactos en la lista. Si el usuario selecciona la opción 4, debe poder buscar un contacto por nombre y mostrar sus detalles. Si el usuario selecciona la opción 5, debe salir del programa.\n",
    "\n",
    "Acontinuación, la implementación del programa:"
   ]
  },
  {
   "cell_type": "code",
   "execution_count": null,
   "id": "6960a158",
   "metadata": {
    "ExecuteTime": {
     "end_time": "2023-02-20T20:16:03.412506Z",
     "start_time": "2023-02-20T20:15:01.878645Z"
    }
   },
   "outputs": [],
   "source": [
    "contactos = []\n",
    "\n",
    "while True:\n",
    "    print(\"Menú de gestión de contactos\")\n",
    "    print(\"1. Añadir un nuevo contacto\")\n",
    "    print(\"2. Eliminar un contacto existente\")\n",
    "    print(\"3. Mostrar todos los contactos\")\n",
    "    print(\"4. Buscar un contacto por nombre\")\n",
    "    print(\"5. Salir del programa\")\n",
    "\n",
    "    opcion = int(input(\"Ingrese la opción que desea: \"))\n",
    "\n",
    "    if opcion == 1:\n",
    "        nombre = input(\"Ingrese el nombre del nuevo contacto: \")\n",
    "        correo = input(\"Ingrese el correo electrónico del nuevo contacto: \")\n",
    "        telefono = input(\"Ingrese el número de teléfono del nuevo contacto: \")\n",
    "        nuevo_contacto = {\"nombre\": nombre, \"correo\": correo, \"telefono\": telefono}\n",
    "        contactos.append(nuevo_contacto)\n",
    "        print(\"El contacto ha sido agregado exitosamente.\")\n",
    "    \n",
    "    elif opcion == 2:\n",
    "        nombre = input(\"Ingrese el nombre del contacto que desea eliminar: \")\n",
    "        for contacto in contactos:\n",
    "            if contacto[\"nombre\"] == nombre:\n",
    "                contactos.remove(contacto)\n",
    "                print(\"El contacto ha sido eliminado exitosamente.\")\n",
    "                break\n",
    "        else:\n",
    "            print(\"No se ha encontrado ningún contacto con ese nombre.\")\n",
    "    \n",
    "    elif opcion == 3:\n",
    "        print(\"Lista de contactos:\")\n",
    "        for contacto in contactos:\n",
    "            print(\"Nombre: \" + contacto[\"nombre\"] + \", Correo: \" + contacto[\"correo\"] + \", Teléfono: \" + contacto[\"telefono\"])\n",
    "    \n",
    "    elif opcion == 4:\n",
    "        nombre = input(\"Ingrese el nombre del contacto que desea buscar: \")\n",
    "        for contacto in contactos:\n",
    "            if contacto[\"nombre\"] == nombre:\n",
    "                print(\"Nombre: \" + contacto[\"nombre\"] + \", Correo: \" + contacto[\"correo\"] + \", Teléfono: \" + contacto[\"telefono\"])\n",
    "                break\n",
    "        else:\n",
    "            print(\"No se ha encontrado ningún contacto con ese nombre.\")\n",
    "    \n",
    "    elif opcion == 5:\n",
    "        print(\"Gracias por utilizar el programa de gestión de contactos.\")\n",
    "        break\n",
    "    \n",
    "    else:\n",
    "        print(\"Opción no válida. Por favor, seleccione una opción del menú.\")"
   ]
  },
  {
   "cell_type": "markdown",
   "id": "6ff33edd",
   "metadata": {},
   "source": [
    "### Ejemplo 2: Análisis de texto\n",
    "Escribe un programa que permita al usuario ingresar un texto y realice un análisis del mismo. El programa debe permitir al usuario realizar las siguientes operaciones:\n",
    "\n",
    "1.- Contar el número total de palabras en el texto.</br>\n",
    "2.- Contar el número de palabras únicas en el texto.</br>\n",
    "3.- Contar la frecuencia de cada palabra en el texto.</br>\n",
    "4.- Encontrar las palabras más comunes en el texto.</br>\n",
    "5.- Encontrar las palabras más largas en el texto.</br>\n",
    "6.- Encontrar las palabras más cortas en el texto.</br>\n",
    "7.- Salir del programa.</br>\n",
    "\n",
    "Para realizar este análisis, el programa debe utilizar las estructuras de datos que hemos cubierto en la última hora, incluyendo listas, tuplas y diccionarios."
   ]
  },
  {
   "cell_type": "code",
   "execution_count": null,
   "id": "5c862ea0",
   "metadata": {},
   "outputs": [],
   "source": [
    "while True:\n",
    "    texto = input(\"Ingrese el texto que desea analizar: \")\n",
    "    palabras = texto.split()\n",
    "\n",
    "    print(\"Menú de análisis de texto\")\n",
    "    print(\"1. Contar el número total de palabras\")\n",
    "    print(\"2. Contar el número de palabras únicas\")\n",
    "    print(\"3. Contar la frecuencia de cada palabra\")\n",
    "    print(\"4. Encontrar las palabras más comunes\")\n",
    "    print(\"5. Encontrar las palabras más largas\")\n",
    "    print(\"6. Encontrar las palabras más cortas\")\n",
    "    print(\"7. Salir del programa\")\n",
    "\n",
    "    opcion = int(input(\"Ingrese la opción que desea: \"))\n",
    "\n",
    "    if opcion == 1:\n",
    "        total_palabras = len(palabras)\n",
    "        print(\"El número total de palabras en el texto es:\", total_palabras)\n",
    "    \n",
    "    elif opcion == 2:\n",
    "        palabras_unicas = set(palabras)\n",
    "        total_palabras_unicas = len(palabras_unicas)\n",
    "        print(\"El número de palabras únicas en el texto es:\", total_palabras_unicas)\n",
    "    \n",
    "    elif opcion == 3:\n",
    "        frecuencia_palabras = {}\n",
    "        for palabra in palabras:\n",
    "            if palabra in frecuencia_palabras:\n",
    "                frecuencia_palabras[palabra] += 1\n",
    "            else:\n",
    "                frecuencia_palabras[palabra] = 1\n",
    "        for palabra, frecuencia in frecuencia_palabras.items():\n",
    "            print(\"La palabra\", palabra, \"aparece\", frecuencia, \"veces en el texto.\")\n",
    "    \n",
    "    elif opcion == 4:\n",
    "        frecuencia_palabras = {}\n",
    "        for palabra in palabras:\n",
    "            if palabra in frecuencia_palabras:\n",
    "                frecuencia_palabras[palabra] += 1\n",
    "            else:\n",
    "                frecuencia_palabras[palabra] = 1\n",
    "        palabras_comunes = sorted(frecuencia_palabras,\n",
    "                                  key=frecuencia_palabras.get,\n",
    "                                  reverse=True)\n",
    "        print(\"Las palabras más comunes en el texto son:\", palabras_comunes[:5])\n",
    "    \n",
    "    elif opcion == 5:\n",
    "        palabras_largas = sorted(palabras, key=len, reverse=True)\n",
    "        longitud_palabra_mas_larga = len(palabras_largas[0])\n",
    "        palabras_mas_largas = []\n",
    "        for palabra in palabras_largas:\n",
    "            if len(palabra) == longitud_palabra_mas_larga:\n",
    "                palabras_mas_largas.append(palabra)\n",
    "            else:\n",
    "                break\n",
    "        print(\"Las palabras más largas en el texto son:\", palabras_mas_largas)\n",
    "    \n",
    "    elif opcion == 6:\n",
    "        palabras_cortas = sorted(palabras, key=len)\n",
    "        longitud_palabra_mas_corta = len(palabras_cortas[0])\n",
    "        palabras_mas_cortas = []\n",
    "        for palabra in palabras_cortas:\n",
    "            if len(palabra) == longitud_palabra_mas_corta:\n",
    "                palabras_mas_cortas.append(palabra)\n",
    "            else:\n",
    "                break\n",
    "        print(\"Las palabras más cortas en el texto son:\", palabras_mas_cortas)\n",
    "    \n",
    "    elif opcion == 7:\n",
    "        print(\"Gracias por utilizar el programa de análisis de texto.\")\n",
    "        break\n",
    "    \n",
    "    else:\n",
    "        print(\"Opción no válida. Por favor, seleccione una opción del menú.\")"
   ]
  }
 ],
 "metadata": {
  "kernelspec": {
   "display_name": "Python 3 (ipykernel)",
   "language": "python",
   "name": "python3"
  },
  "language_info": {
   "codemirror_mode": {
    "name": "ipython",
    "version": 3
   },
   "file_extension": ".py",
   "mimetype": "text/x-python",
   "name": "python",
   "nbconvert_exporter": "python",
   "pygments_lexer": "ipython3",
   "version": "3.10.9"
  },
  "varInspector": {
   "cols": {
    "lenName": 16,
    "lenType": 16,
    "lenVar": 40
   },
   "kernels_config": {
    "python": {
     "delete_cmd_postfix": "",
     "delete_cmd_prefix": "del ",
     "library": "var_list.py",
     "varRefreshCmd": "print(var_dic_list())"
    },
    "r": {
     "delete_cmd_postfix": ") ",
     "delete_cmd_prefix": "rm(",
     "library": "var_list.r",
     "varRefreshCmd": "cat(var_dic_list()) "
    }
   },
   "types_to_exclude": [
    "module",
    "function",
    "builtin_function_or_method",
    "instance",
    "_Feature"
   ],
   "window_display": false
  }
 },
 "nbformat": 4,
 "nbformat_minor": 5
}
