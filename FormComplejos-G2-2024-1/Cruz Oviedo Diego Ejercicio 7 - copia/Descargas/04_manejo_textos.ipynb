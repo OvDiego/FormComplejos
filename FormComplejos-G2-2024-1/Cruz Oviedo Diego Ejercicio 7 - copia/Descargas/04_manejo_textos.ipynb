{
 "cells": [
  {
   "cell_type": "code",
   "execution_count": null,
   "id": "1683204e",
   "metadata": {
    "ExecuteTime": {
     "end_time": "2023-03-01T17:05:34.890940Z",
     "start_time": "2023-03-01T17:05:34.876945Z"
    }
   },
   "outputs": [],
   "source": [
    "import warnings\n",
    "from IPython.display import display, HTML\n",
    "warnings.filterwarnings('ignore')\n",
    "display(HTML(\"<style>.container { width:100% !important; }</style>\"))"
   ]
  },
  {
   "cell_type": "markdown",
   "id": "76ca52d1",
   "metadata": {},
   "source": [
    "# Manejo de Textos\n",
    "\n",
    "La clase `str` es la clase de objetos que representan cadenas de caracteres en Python. Las cadenas son una de las estructuras de datos más utilizadas en Python, ya que se utilizan para representar texto y otros datos en forma de caracteres.\n",
    "\n",
    "Algunas de las operaciones que se pueden realizar con cadenas de texto en Python incluyen:\n",
    "\n",
    "* Concatenación: se puede unir dos o más cadenas utilizando el operador `+`.\n",
    "\n",
    "* Indexación: se puede acceder a un carácter en una cadena utilizando su índice. El primer carácter de una cadena tiene un índice de 0.\n",
    "\n",
    "* Rebanado: se puede obtener una subcadena de una cadena utilizando la notación de rebanado. Por ejemplo, `cadena[1:4]` devuelve los caracteres desde el índice 1 hasta el índice 3 de la cadena.\n",
    "\n",
    "* Métodos de cadenas: la clase `str` proporciona muchos métodos útiles para manipular cadenas, como `upper()` y `lower()` para convertir una cadena a mayúsculas o minúsculas, `split()` para dividir una cadena en una lista de subcadenas y `replace()` para reemplazar todas las ocurrencias de una subcadena en una cadena con otra subcadena.\n",
    "\n",
    "Aquí hay algunos ejemplos de código para ilustrar estas operaciones:"
   ]
  },
  {
   "cell_type": "code",
   "execution_count": null,
   "id": "bf5ce31d",
   "metadata": {
    "ExecuteTime": {
     "end_time": "2023-03-01T23:14:53.803914Z",
     "start_time": "2023-03-01T23:14:53.749499Z"
    }
   },
   "outputs": [],
   "source": [
    "# Concatenación de cadenas\n",
    "nombre = \"Juan\"\n",
    "apellido = \"Pérez\"\n",
    "nombre_completo = nombre + \" \" + apellido\n",
    "print(nombre_completo) # Imprime \"Juan Pérez\"\n",
    "\n",
    "# Indexación de cadenas\n",
    "cadena = \"Python\"\n",
    "primer_caracter = cadena[0]\n",
    "print(primer_caracter) # Imprime \"P\"\n",
    "\n",
    "# Rebanado de cadenas\n",
    "cadena = \"Python es genial\"\n",
    "subcadena = cadena[0:6]\n",
    "print(subcadena) # Imprime \"Python\""
   ]
  },
  {
   "cell_type": "markdown",
   "id": "19b15bb9",
   "metadata": {},
   "source": [
    "Aquí hay una lista de algunas de las funciones de la clase `str` y cómo se pueden utilizar en Python:\n",
    "\n",
    "1. `capitalize()`: Devuelve una copia de la cadena con la primera letra en mayúscula."
   ]
  },
  {
   "cell_type": "code",
   "execution_count": null,
   "id": "e522fb9f",
   "metadata": {
    "ExecuteTime": {
     "end_time": "2023-03-01T23:15:39.261093Z",
     "start_time": "2023-03-01T23:15:39.246451Z"
    }
   },
   "outputs": [],
   "source": [
    "cadena = \"hola, mundo!\"\n",
    "capitalizada = cadena.capitalize()\n",
    "print(capitalizada) # Imprime \"Hola, mundo!\""
   ]
  },
  {
   "cell_type": "markdown",
   "id": "820e021a",
   "metadata": {},
   "source": [
    "2. `center()`: Centra la cadena en un ancho determinado utilizando un carácter de relleno."
   ]
  },
  {
   "cell_type": "code",
   "execution_count": null,
   "id": "4ff3c2f6",
   "metadata": {
    "ExecuteTime": {
     "end_time": "2023-03-01T23:16:21.424352Z",
     "start_time": "2023-03-01T23:16:21.402617Z"
    }
   },
   "outputs": [],
   "source": [
    "cadena = \"Python\"\n",
    "centrada = cadena.center(10, \"*\")\n",
    "print(centrada) # Imprime \"**Python**\""
   ]
  },
  {
   "cell_type": "markdown",
   "id": "663b88e7",
   "metadata": {},
   "source": [
    "3. `count()`: Devuelve el número de ocurrencias de una subcadena en una cadena."
   ]
  },
  {
   "cell_type": "code",
   "execution_count": null,
   "id": "68646f4c",
   "metadata": {
    "ExecuteTime": {
     "end_time": "2023-03-01T23:16:45.211474Z",
     "start_time": "2023-03-01T23:16:45.194237Z"
    }
   },
   "outputs": [],
   "source": [
    "cadena = \"La lluvia en Sevilla es una maravilla\"\n",
    "ocurrencias = cadena.count(\"ll\")\n",
    "print(ocurrencias) # Imprime 3"
   ]
  },
  {
   "cell_type": "markdown",
   "id": "2839c6c6",
   "metadata": {},
   "source": [
    "4. `startswith()` y `endswith()`: Comprueba si una cadena comienza o termina con una subcadena determinada y devuelve True o False."
   ]
  },
  {
   "cell_type": "code",
   "execution_count": null,
   "id": "f847d246",
   "metadata": {
    "ExecuteTime": {
     "end_time": "2023-03-01T23:17:30.462843Z",
     "start_time": "2023-03-01T23:17:30.455179Z"
    }
   },
   "outputs": [],
   "source": [
    "cadena = \"Hola, mundo!\"\n",
    "empieza_con_hola = cadena.startswith(\"Hola\")\n",
    "termina_con_mundo = cadena.endswith(\"mundo!\")\n",
    "print(empieza_con_hola) # Imprime True\n",
    "print(termina_con_mundo) # Imprime True"
   ]
  },
  {
   "cell_type": "markdown",
   "id": "36c6501b",
   "metadata": {},
   "source": [
    "5. `find()` y `index()`: Encuentra la posición de una subcadena en una cadena y devuelve su índice. La función `find()` devuelve `-1` si la subcadena no se encuentra, mientras que `index()` lanza una excepción si la subcadena no se encuentra."
   ]
  },
  {
   "cell_type": "code",
   "execution_count": null,
   "id": "87d91a76",
   "metadata": {
    "ExecuteTime": {
     "end_time": "2023-03-01T23:18:28.258387Z",
     "start_time": "2023-03-01T23:18:28.240324Z"
    }
   },
   "outputs": [],
   "source": [
    "cadena = \"Python es genial\"\n",
    "posicion_es = cadena.find(\"es\")\n",
    "posicion_no = cadena.find(\"no\")\n",
    "print(posicion_es) # Imprime 7\n",
    "print(posicion_no) # Imprime -1\n",
    "\n",
    "try:\n",
    "    posicion_no = cadena.index(\"no\")\n",
    "except ValueError:\n",
    "    print(\"La subcadena no se encuentra en la cadena\")"
   ]
  },
  {
   "cell_type": "markdown",
   "id": "43748293",
   "metadata": {},
   "source": [
    "6. `isalpha()`: Esta función devuelve `True` si la cadena contiene solo letras."
   ]
  },
  {
   "cell_type": "code",
   "execution_count": null,
   "id": "adbc8b0b",
   "metadata": {
    "ExecuteTime": {
     "end_time": "2023-03-01T23:21:40.405927Z",
     "start_time": "2023-03-01T23:21:40.400937Z"
    }
   },
   "outputs": [],
   "source": [
    "cadena1 = \"Hola\"\n",
    "cadena2 = \"Hola123\"\n",
    "cadena3 = \"¡Hola!\"\n",
    "cadena4 = \"hola\"\n",
    "cadena5 = \"HOLA\"\n",
    "print(cadena1.isalpha()) # Imprime True\n",
    "print(cadena2.isalpha()) # Imprime False\n",
    "print(cadena3.isalpha()) # Imprime False\n",
    "print(cadena4.isalpha()) # Imprime True\n",
    "print(cadena5.isalpha()) # Imprime True"
   ]
  },
  {
   "cell_type": "markdown",
   "id": "90b41d13",
   "metadata": {},
   "source": [
    "7. `isdigit()`: Esta función devuelve `True` si la cadena contiene solo dígitos."
   ]
  },
  {
   "cell_type": "code",
   "execution_count": null,
   "id": "5ce02abf",
   "metadata": {
    "ExecuteTime": {
     "end_time": "2023-03-01T23:22:18.122727Z",
     "start_time": "2023-03-01T23:22:18.114026Z"
    }
   },
   "outputs": [],
   "source": [
    "cadena1 = \"1234\"\n",
    "cadena2 = \"1234A\"\n",
    "cadena3 = \"1 2 3 4\"\n",
    "print(cadena1.isdigit()) # Imprime True\n",
    "print(cadena2.isdigit()) # Imprime False\n",
    "print(cadena3.isdigit()) # Imprime False"
   ]
  },
  {
   "cell_type": "markdown",
   "id": "d06751e3",
   "metadata": {},
   "source": [
    "8. `isalnum()`: Esta función devuelve `True` si la cadena contiene solo letras y/o dígitos."
   ]
  },
  {
   "cell_type": "code",
   "execution_count": null,
   "id": "7034ecb6",
   "metadata": {
    "ExecuteTime": {
     "end_time": "2023-03-01T23:23:19.224373Z",
     "start_time": "2023-03-01T23:23:19.218828Z"
    }
   },
   "outputs": [],
   "source": [
    "cadena1 = \"Hola123\"\n",
    "cadena2 = \"¡Hola!\"\n",
    "cadena3 = \"1234\"\n",
    "print(cadena1.isalnum()) # Imprime True\n",
    "print(cadena2.isalnum()) # Imprime False\n",
    "print(cadena3.isalnum()) # Imprime True"
   ]
  },
  {
   "cell_type": "markdown",
   "id": "5c538e91",
   "metadata": {},
   "source": [
    "9. `isspace()`: Esta función devuelve `True` si la cadena contiene solo espacios en blanco."
   ]
  },
  {
   "cell_type": "code",
   "execution_count": null,
   "id": "1a1bc020",
   "metadata": {
    "ExecuteTime": {
     "end_time": "2023-03-01T23:23:46.806606Z",
     "start_time": "2023-03-01T23:23:46.796462Z"
    }
   },
   "outputs": [],
   "source": [
    "cadena1 = \"   \"\n",
    "cadena2 = \"  Hola  \"\n",
    "cadena3 = \"Hola\"\n",
    "print(cadena1.isspace()) # Imprime True\n",
    "print(cadena2.isspace()) # Imprime False\n",
    "print(cadena3.isspace()) # Imprime False"
   ]
  },
  {
   "cell_type": "markdown",
   "id": "216d0f4e",
   "metadata": {},
   "source": [
    "10. `islower()`: Esta función devuelve `True` si todas las letras de la cadena están en minúsculas."
   ]
  },
  {
   "cell_type": "code",
   "execution_count": null,
   "id": "33e6d5e8",
   "metadata": {
    "ExecuteTime": {
     "end_time": "2023-03-01T23:24:13.166174Z",
     "start_time": "2023-03-01T23:24:13.159365Z"
    }
   },
   "outputs": [],
   "source": [
    "cadena1 = \"hola mundo\"\n",
    "cadena2 = \"Hola Mundo\"\n",
    "cadena3 = \"HOLA MUNDO\"\n",
    "print(cadena1.islower()) # Imprime True\n",
    "print(cadena2.islower()) # Imprime False\n",
    "print(cadena3.islower()) # Imprime False"
   ]
  },
  {
   "cell_type": "markdown",
   "id": "42628276",
   "metadata": {},
   "source": [
    "11. `isupper()`: Esta función devuelve `True` si todas las letras de la cadena están en mayúsculas."
   ]
  },
  {
   "cell_type": "code",
   "execution_count": null,
   "id": "8cb21eef",
   "metadata": {
    "ExecuteTime": {
     "end_time": "2023-03-01T23:24:53.276936Z",
     "start_time": "2023-03-01T23:24:53.266932Z"
    }
   },
   "outputs": [],
   "source": [
    "cadena1 = \"HOLA MUNDO\"\n",
    "cadena2 = \"Hola Mundo\"\n",
    "cadena3 = \"hola mundo\"\n",
    "print(cadena1.isupper()) # Imprime True\n",
    "print(cadena2.isupper()) # Imprime False\n",
    "print(cadena3.isupper()) # Imprime False"
   ]
  },
  {
   "cell_type": "markdown",
   "id": "6e952cb0",
   "metadata": {},
   "source": [
    "12. `join()`: Une una lista de cadenas en una sola cadena utilizando la cadena actual como separador."
   ]
  },
  {
   "cell_type": "code",
   "execution_count": null,
   "id": "fcaa4334",
   "metadata": {
    "ExecuteTime": {
     "end_time": "2023-03-01T23:20:25.149211Z",
     "start_time": "2023-03-01T23:20:25.131912Z"
    }
   },
   "outputs": [],
   "source": [
    "lista = [\"Juan\", \"Pérez\", \"1234\"]\n",
    "cadena_unida = \"-\".join(lista)\n",
    "print(cadena_unida) # Imprime \"Juan-Pérez"
   ]
  },
  {
   "cell_type": "code",
   "execution_count": null,
   "id": "eb7d82fc",
   "metadata": {
    "ExecuteTime": {
     "end_time": "2023-03-01T23:25:58.558459Z",
     "start_time": "2023-03-01T23:25:58.552877Z"
    }
   },
   "outputs": [],
   "source": [
    "palabras = [\"Hola\", \"mundo\", \"desde\", \"Python\"]\n",
    "separador = \" \"\n",
    "\n",
    "frase = separador.join(palabras)\n",
    "print(frase) # Imprime \"Hola mundo desde Python\""
   ]
  },
  {
   "cell_type": "markdown",
   "id": "4ced8321",
   "metadata": {},
   "source": [
    "13. `split()`: Esta función se utiliza para dividir una cadena en una lista de subcadenas utilizando un separador. Por defecto, el separador es un espacio en blanco."
   ]
  },
  {
   "cell_type": "code",
   "execution_count": null,
   "id": "f8c3154d",
   "metadata": {
    "ExecuteTime": {
     "end_time": "2023-03-01T23:27:01.353816Z",
     "start_time": "2023-03-01T23:27:01.334895Z"
    }
   },
   "outputs": [],
   "source": [
    "cadena = \"Hola mundo desde Python\"\n",
    "palabras = cadena.split()\n",
    "print(palabras) # Imprime ['Hola', 'mundo', 'desde', 'Python']\n",
    "\n",
    "correo = \"usuario@dominio.com\"\n",
    "usuario, dominio = correo.split('@')\n",
    "print(usuario) # Imprime \"usuario\"\n",
    "print(dominio) # Imprime \"dominio.com\""
   ]
  },
  {
   "cell_type": "markdown",
   "id": "d02014e8",
   "metadata": {},
   "source": [
    "14. `replace()`: Esta función se utiliza para reemplazar una subcadena por otra en una cadena."
   ]
  },
  {
   "cell_type": "code",
   "execution_count": null,
   "id": "3ed76a38",
   "metadata": {
    "ExecuteTime": {
     "end_time": "2023-03-01T23:27:32.614515Z",
     "start_time": "2023-03-01T23:27:32.595843Z"
    }
   },
   "outputs": [],
   "source": [
    "cadena = \"Hola mundo desde Python\"\n",
    "nueva_cadena = cadena.replace(\"Python\", \"Java\")\n",
    "print(nueva_cadena) # Imprime \"Hola mundo desde Java\""
   ]
  },
  {
   "cell_type": "markdown",
   "id": "707ca31e",
   "metadata": {},
   "source": [
    "15. `strip()`: Esta función se utiliza para eliminar los caracteres especificados al principio y al final de una cadena. Si no se especifica ningún carácter, se eliminan los espacios en blanco por defecto."
   ]
  },
  {
   "cell_type": "code",
   "execution_count": null,
   "id": "2bf0b3e8",
   "metadata": {
    "ExecuteTime": {
     "end_time": "2023-03-01T23:29:23.039543Z",
     "start_time": "2023-03-01T23:29:23.024825Z"
    }
   },
   "outputs": [],
   "source": [
    "cadena = \"   Hola mundo   \"\n",
    "nueva_cadena = cadena.strip()\n",
    "print(nueva_cadena) # Imprime \"Hola mundo\"\n",
    "\n",
    "cadena = \"----Hola mundo----\"\n",
    "nueva_cadena = cadena.strip(\"-\")\n",
    "print(nueva_cadena) # Imprime \"Hola mundo\""
   ]
  },
  {
   "cell_type": "markdown",
   "id": "cac00579",
   "metadata": {},
   "source": [
    "16. `splitlines()`: Esta función se utiliza para dividir una cadena en una lista de subcadenas en función de los saltos de línea."
   ]
  },
  {
   "cell_type": "code",
   "execution_count": null,
   "id": "c4b5fee1",
   "metadata": {
    "ExecuteTime": {
     "end_time": "2023-03-01T23:29:47.135215Z",
     "start_time": "2023-03-01T23:29:47.119462Z"
    }
   },
   "outputs": [],
   "source": [
    "cadena = \"Hola\\nmundo\\n\"\n",
    "lineas = cadena.splitlines()\n",
    "print(lineas) # Imprime ['Hola', 'mundo']"
   ]
  },
  {
   "cell_type": "markdown",
   "id": "a26a4642",
   "metadata": {},
   "source": [
    "17. `partition()`: Esta función se utiliza para dividir una cadena en tres partes en función de un separador y devuelve una tupla con las tres partes."
   ]
  },
  {
   "cell_type": "code",
   "execution_count": null,
   "id": "2a89f0c2",
   "metadata": {
    "ExecuteTime": {
     "end_time": "2023-03-01T23:30:19.912468Z",
     "start_time": "2023-03-01T23:30:19.900147Z"
    }
   },
   "outputs": [],
   "source": [
    "cadena = \"Hola mundo desde Python\"\n",
    "partes = cadena.partition(\"desde\")\n",
    "print(partes) # Imprime ('Hola mundo ', 'desde', ' Python')"
   ]
  },
  {
   "cell_type": "markdown",
   "id": "dd112333",
   "metadata": {},
   "source": [
    "18. `rjust()` y `ljust()`: Estas funciones se utilizan para justificar una cadena a la izquierda o a la derecha, respectivamente, añadiendo espacios en blanco a la izquierda o a la derecha hasta alcanzar una longitud determinada."
   ]
  },
  {
   "cell_type": "code",
   "execution_count": null,
   "id": "ed27ad33",
   "metadata": {
    "ExecuteTime": {
     "end_time": "2023-03-01T23:33:04.748742Z",
     "start_time": "2023-03-01T23:33:04.730426Z"
    }
   },
   "outputs": [],
   "source": [
    "cadena = \"Hola mundo\"\n",
    "nueva_cadena = cadena.rjust(20)\n",
    "print(nueva_cadena) # Imprime \"         Hola mundo\"\n",
    "\n",
    "nueva_cadena = cadena.ljust(20, \"-\")\n",
    "print(nueva_cadena) # Imprime \"Hola mundo----------\""
   ]
  },
  {
   "cell_type": "markdown",
   "id": "fb868951",
   "metadata": {},
   "source": [
    "## Ejemplo 1\n",
    "\n",
    "En este ejemplo, primero convertimos la primera letra de cada palabra en mayúscula utilizando la función `split()` y `capitalize()`. Luego, reemplazamos \"Python\" por \"Java\" utilizando la función `replace()`. Después, dividimos el texto en párrafos utilizando la función `split()` y los separamos con un punto y espacio utilizando la concatenación de cadenas y la función `join()`. Finalmente, imprimimos los párrafos resultantes en líneas separadas."
   ]
  },
  {
   "cell_type": "code",
   "execution_count": null,
   "id": "e70253e3",
   "metadata": {
    "ExecuteTime": {
     "end_time": "2023-03-01T23:35:37.739403Z",
     "start_time": "2023-03-01T23:35:37.715251Z"
    }
   },
   "outputs": [],
   "source": [
    "texto = \"El manejo de cadenas o strings es un aspecto fundamental en la programación, especialmente en Python. Las cadenas son una secuencia de caracteres que se utilizan para representar texto. Python proporciona una gran cantidad de funciones que permiten manipular cadenas de diferentes maneras.\"\n",
    "\n",
    "# Convertir la primera letra de cada palabra en mayúscula\n",
    "palabras = texto.split()\n",
    "palabras = [palabra.capitalize() for palabra in palabras]\n",
    "texto = \" \".join(palabras)\n",
    "\n",
    "# Reemplazar \"Python\" por \"Java\"\n",
    "texto = texto.replace(\"Python\", \"Java\")\n",
    "\n",
    "# Separar el texto en párrafos\n",
    "parrafos = texto.split(\". \")\n",
    "parrafos = [parrafo + \".\" for parrafo in parrafos]\n",
    "\n",
    "# Imprimir el resultado\n",
    "for parrafo in parrafos:\n",
    "    print(parrafo)"
   ]
  },
  {
   "cell_type": "markdown",
   "id": "8787b554",
   "metadata": {},
   "source": [
    "## Ejemplo 2\n",
    "\n",
    "En este ejemplo, primero obtenemos el número de veces que aparece la palabra \"algoritmo\" en el texto utilizando la función `count()`. Luego, convertimos todas las letras a minúsculas utilizando la función `lower()`. Después, obtenemos la primera letra de cada palabra y las concatenamos utilizando la función `split()` y la concatenación de cadenas. Luego, reemplazamos \"burbuja\" por \"inserción\" utilizando la función `replace()`. Finalmente, imprimimos el número de veces que aparece \"algoritmo\" en el texto, las abreviaturas de las palabras y el texto con las palabras reemplazadas."
   ]
  },
  {
   "cell_type": "code",
   "execution_count": null,
   "id": "1cea60e2",
   "metadata": {
    "ExecuteTime": {
     "end_time": "2023-03-01T23:38:05.197836Z",
     "start_time": "2023-03-01T23:38:05.180403Z"
    }
   },
   "outputs": [],
   "source": [
    "texto = \"El algoritmo de ordenamiento de burbuja es un algoritmo sencillo que consiste en comparar elementos adyacentes y, si están en el orden incorrecto, intercambiarlos. Este algoritmo es ineficiente para listas grandes y suele utilizarse en casos específicos donde la cantidad de elementos a ordenar es pequeña.\"\n",
    "\n",
    "# Obtener el número de veces que aparece la palabra \"algoritmo\"\n",
    "num_algoritmo = texto.count(\"algoritmo\")\n",
    "\n",
    "# Convertir todas las letras a minúsculas\n",
    "texto = texto.lower()\n",
    "\n",
    "# Obtener la primera letra de cada palabra y concatenarlas\n",
    "abreviaturas = [palabra[0] for palabra in texto.split()]\n",
    "abreviaturas = \"\".join(abreviaturas)\n",
    "\n",
    "# Reemplazar \"burbuja\" por \"inserción\"\n",
    "texto = texto.replace(\"burbuja\", \"inserción\")\n",
    "\n",
    "# Imprimir el resultado\n",
    "print(f\"La palabra 'algoritmo' aparece {num_algoritmo} veces en el texto.\")\n",
    "print(f\"Las abreviaturas de las palabras son: {abreviaturas}\")\n",
    "print(texto)"
   ]
  }
 ],
 "metadata": {
  "kernelspec": {
   "display_name": "Python 3 (ipykernel)",
   "language": "python",
   "name": "python3"
  },
  "language_info": {
   "codemirror_mode": {
    "name": "ipython",
    "version": 3
   },
   "file_extension": ".py",
   "mimetype": "text/x-python",
   "name": "python",
   "nbconvert_exporter": "python",
   "pygments_lexer": "ipython3",
   "version": "3.10.9"
  },
  "varInspector": {
   "cols": {
    "lenName": 16,
    "lenType": 16,
    "lenVar": 40
   },
   "kernels_config": {
    "python": {
     "delete_cmd_postfix": "",
     "delete_cmd_prefix": "del ",
     "library": "var_list.py",
     "varRefreshCmd": "print(var_dic_list())"
    },
    "r": {
     "delete_cmd_postfix": ") ",
     "delete_cmd_prefix": "rm(",
     "library": "var_list.r",
     "varRefreshCmd": "cat(var_dic_list()) "
    }
   },
   "types_to_exclude": [
    "module",
    "function",
    "builtin_function_or_method",
    "instance",
    "_Feature"
   ],
   "window_display": false
  }
 },
 "nbformat": 4,
 "nbformat_minor": 5
}
