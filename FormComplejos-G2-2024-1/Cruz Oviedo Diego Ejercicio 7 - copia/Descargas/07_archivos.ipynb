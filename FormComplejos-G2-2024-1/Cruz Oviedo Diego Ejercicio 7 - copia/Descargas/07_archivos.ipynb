{
 "cells": [
  {
   "cell_type": "code",
   "execution_count": null,
   "id": "9b415ffe",
   "metadata": {
    "ExecuteTime": {
     "end_time": "2023-03-05T19:52:28.145927Z",
     "start_time": "2023-03-05T19:52:28.088982Z"
    }
   },
   "outputs": [],
   "source": [
    "import warnings\n",
    "from IPython.display import display, HTML\n",
    "warnings.filterwarnings('ignore')\n",
    "display(HTML(\"<style>.container { width:100% !important; }</style>\"))"
   ]
  },
  {
   "cell_type": "markdown",
   "id": "18d245ff",
   "metadata": {},
   "source": [
    "# Manejo de archivos\n",
    "\n",
    "Python proporciona varias funciones y métodos que nos permiten trabajar con archivos. Antes de poder leer o escribir en un archivo, es necesario abrirlo y crear un objeto de archivo en Python.\n",
    "\n",
    "## Abrir un archivo\n",
    "\n",
    "Para abrir un archivo, usamos la función open() de Python. Esta función devuelve un objeto de archivo, que se utiliza para realizar diversas operaciones en el archivo, como leer y escribir en él."
   ]
  },
  {
   "cell_type": "raw",
   "id": "9cea9c76",
   "metadata": {},
   "source": [
    "archivo = open(\"archivo.txt\", \"r\")"
   ]
  },
  {
   "cell_type": "markdown",
   "id": "82433e81",
   "metadata": {},
   "source": [
    "El primer argumento de la función `open()` es el nombre del archivo que se desea abrir. Si el archivo se encuentra en el mismo directorio que el archivo Python, entonces solo se debe proporcionar el nombre del archivo. Si el archivo se encuentra en otro directorio, se debe proporcionar la ruta completa del archivo.\n",
    "\n",
    "El segundo argumento de la función `open()` es el modo en el que se abrirá el archivo. Los modos más comunes son:\n",
    "\n",
    "* `\"r\"`: modo de lectura, que es el modo predeterminado. Este modo se utiliza para leer un archivo existente.\n",
    "* `\"w\"`: modo de escritura, que se utiliza para crear un nuevo archivo o sobrescribir un archivo existente.\n",
    "* `\"a\"`: modo de anexado, que se utiliza para agregar contenido a un archivo existente.\n",
    "\n",
    "Es importante cerrar el archivo después de haber terminado de trabajar con él. Esto se hace con el método `close()` del objeto de archivo."
   ]
  },
  {
   "cell_type": "raw",
   "id": "50be1589",
   "metadata": {},
   "source": [
    "archivo.close()"
   ]
  },
  {
   "cell_type": "markdown",
   "id": "8f435be4",
   "metadata": {},
   "source": [
    "## Escribir en un archivo\n",
    "\n",
    "Para escribir en un archivo, primero debemos abrirlo en modo de escritura o modo de anexado. Después de abrir el archivo en modo de escritura, podemos escribir en él utilizando el método `write()`."
   ]
  },
  {
   "cell_type": "code",
   "execution_count": null,
   "id": "d8b1dab6",
   "metadata": {
    "ExecuteTime": {
     "end_time": "2023-03-06T02:00:27.441605Z",
     "start_time": "2023-03-06T02:00:27.430044Z"
    }
   },
   "outputs": [],
   "source": [
    "archivo = open(\"archivo.txt\", \"w\")\n",
    "archivo.write(\"Hola, mundo!\\n\")\n",
    "archivo.write(\"Esta es una segunda línea.\\n\")\n",
    "archivo.close()"
   ]
  },
  {
   "cell_type": "markdown",
   "id": "c25c7bc4",
   "metadata": {},
   "source": [
    "El método `write()` escribe una cadena en el archivo. Si deseamos escribir una línea en el archivo, debemos agregar un salto de línea (`\\n`) al final de la cadena.\n",
    "\n",
    "También podemos escribir en el archivo utilizando el método `writelines()`, que escribe varias líneas a la vez."
   ]
  },
  {
   "cell_type": "code",
   "execution_count": null,
   "id": "e46257bf",
   "metadata": {
    "ExecuteTime": {
     "end_time": "2023-03-05T22:50:46.002799Z",
     "start_time": "2023-03-05T22:50:45.991271Z"
    }
   },
   "outputs": [],
   "source": [
    "archivo = open(\"archivo.txt\", \"w\")\n",
    "lista_lineas = [\"Primera línea.\\n\", \"Segunda línea.\\n\", \"Tercera línea.\\n\"]\n",
    "archivo.writelines(lista_lineas)\n",
    "archivo.close()"
   ]
  },
  {
   "cell_type": "markdown",
   "id": "48b9b230",
   "metadata": {},
   "source": [
    "## Leer un archivo\n",
    "\n",
    "Después de abrir un archivo en modo de lectura, podemos leer el contenido del archivo utilizando el método `read()` del objeto de archivo. Este método lee todo el contenido del archivo y lo devuelve como una cadena."
   ]
  },
  {
   "cell_type": "code",
   "execution_count": null,
   "id": "072d6918",
   "metadata": {
    "ExecuteTime": {
     "end_time": "2023-03-05T22:51:01.564098Z",
     "start_time": "2023-03-05T22:51:01.547607Z"
    }
   },
   "outputs": [],
   "source": [
    "archivo = open(\"archivo.txt\", \"r\")\n",
    "contenido = archivo.read()\n",
    "print(contenido)\n",
    "archivo.close()"
   ]
  },
  {
   "cell_type": "markdown",
   "id": "2c29250f",
   "metadata": {},
   "source": [
    "También podemos leer el archivo línea por línea utilizando el método `readline()`. Este método lee una línea del archivo cada vez que se llama y devuelve una cadena."
   ]
  },
  {
   "cell_type": "code",
   "execution_count": null,
   "id": "a3f716e4",
   "metadata": {
    "ExecuteTime": {
     "end_time": "2023-03-05T22:54:54.524201Z",
     "start_time": "2023-03-05T22:54:54.509106Z"
    }
   },
   "outputs": [],
   "source": [
    "archivo = open(\"archivo.txt\", \"r\")\n",
    "linea1 = archivo.readline()\n",
    "linea2 = archivo.readline()\n",
    "print(linea1)\n",
    "print(linea2)\n",
    "archivo.close()"
   ]
  },
  {
   "cell_type": "markdown",
   "id": "4fa4631e",
   "metadata": {},
   "source": [
    "## Anexar contenido a un archivo\n",
    "\n",
    "Para escribir en un archivo en modo de anexado, primero debemos abrir el archivo utilizando la función `open` con el parámetro `mode='a'`. Este modo permitirá que cualquier contenido nuevo que se escriba en el archivo se añada al final del archivo existente en lugar de sobrescribirlo.\n",
    "\n",
    "Una vez abierto el archivo en modo de anexado, podemos escribir contenido en él utilizando la función `write`. Es importante destacar que, cuando escribimos en modo de anexado, debemos incluir explícitamente cualquier carácter de nueva línea que queramos agregar al final del contenido.\n",
    "\n",
    "Por último, una vez que hayamos terminado de escribir en el archivo, es importante cerrarlo utilizando la función `close`. Es importante cerrar los archivos después de trabajar con ellos para evitar problemas de acceso y corrupción de datos.\n",
    "\n",
    "Aquí hay un ejemplo de cómo escribir en un archivo en modo de anexado:"
   ]
  },
  {
   "cell_type": "code",
   "execution_count": null,
   "id": "54b0b82e",
   "metadata": {},
   "outputs": [],
   "source": [
    "archivo = open('archivo.txt', 'a')\n",
    "archivo.write('Este es un nuevo contenido que se añadirá al final del archivo existente.\\n')\n",
    "archivo.close()"
   ]
  },
  {
   "cell_type": "markdown",
   "id": "b470b2d1",
   "metadata": {},
   "source": [
    "En este ejemplo, abrimos el archivo `archivo.txt` en modo de anexado utilizando la función `open` y el parámetro `mode='a'`. Luego, utilizamos la función `write` para agregar el nuevo contenido al final del archivo existente, incluyendo explícitamente el carácter de nueva línea `\\n`. Finalmente, cerramos el archivo utilizando la función `close`."
   ]
  },
  {
   "cell_type": "markdown",
   "id": "713bb73c",
   "metadata": {},
   "source": [
    "## Manejo de excepciones al trabajar con archivos\n",
    "\n",
    "Es importante tener en cuenta que pueden ocurrir errores al trabajar con archivos. Por ejemplo, el archivo que intentamos abrir puede no existir, o es posible que no tengamos permiso para escribir en el archivo.\n",
    "\n",
    "Hay varias excepciones que se pueden producir al trabajar con archivos, por ejemplo:\n",
    "\n",
    "* `FileNotFoundError`: se produce cuando se intenta acceder a un archivo que no existe.\n",
    "* `PermissionError`: se produce cuando no se tiene permiso para acceder al archivo.\n",
    "* `IOError`: se produce cuando hay un error en la entrada o salida de datos del archivo.\n",
    "* `ValueError`: se produce cuando se intenta abrir un archivo con un modo incorrecto.\n",
    "\n",
    "Para manejar estas excepciones, se puede utilizar el bloque `try-except` en Python. Por ejemplo:"
   ]
  },
  {
   "cell_type": "code",
   "execution_count": null,
   "id": "ef1eb2fe",
   "metadata": {},
   "outputs": [],
   "source": [
    "try:\n",
    "    archivo = open(\"archivo.txt\", \"r\")\n",
    "except FileNotFoundError:\n",
    "    print(\"El archivo no existe.\")\n",
    "except PermissionError:\n",
    "    print(\"No tienes permiso para acceder al archivo.\")\n",
    "except IOError:\n",
    "    print(\"Error en la entrada o salida de datos del archivo.\")\n",
    "except ValueError:\n",
    "    print(\"Modo de apertura del archivo incorrecto.\")\n",
    "else:\n",
    "    # Código a ejecutar si no hubo excepciones\n",
    "    contenido = archivo.read()\n",
    "    print(contenido)\n",
    "    archivo.close()"
   ]
  },
  {
   "cell_type": "markdown",
   "id": "1d2c58ee",
   "metadata": {},
   "source": [
    "En este ejemplo, se intenta abrir un archivo llamado \"archivo.txt\" en modo de lectura (`\"r\"`). Si ocurre alguna de las excepciones mencionadas anteriormente, se ejecuta el bloque `except`. Si no hay excepciones, se ejecuta el bloque `else` y se puede trabajar con el archivo abierto.\n",
    "\n",
    "Es importante recordar cerrar el archivo una vez que se ha terminado de trabajar con él. En este ejemplo, se cierra el archivo en el bloque `else` mediante el método `close()`.\n",
    "\n",
    "También se pueden utilizar los bloques `finally` para ejecutar un código después de que se ha terminado el manejo de excepciones. Por ejemplo:"
   ]
  },
  {
   "cell_type": "code",
   "execution_count": null,
   "id": "b7bae7f6",
   "metadata": {
    "ExecuteTime": {
     "end_time": "2023-03-05T23:01:53.617002Z",
     "start_time": "2023-03-05T23:01:53.603145Z"
    }
   },
   "outputs": [],
   "source": [
    "try:\n",
    "    archivo = open(\"archivo.txt\", \"r\")\n",
    "except FileNotFoundError:\n",
    "    print(\"El archivo no existe.\")\n",
    "except PermissionError:\n",
    "    print(\"No tienes permiso para acceder al archivo.\")\n",
    "except IOError:\n",
    "    print(\"Error en la entrada o salida de datos del archivo.\")\n",
    "except ValueError:\n",
    "    print(\"Modo de apertura del archivo incorrecto.\")\n",
    "else:\n",
    "    # Código a ejecutar si no hubo excepciones\n",
    "    contenido = archivo.read()\n",
    "    print(contenido)\n",
    "finally:\n",
    "    archivo.close()"
   ]
  },
  {
   "cell_type": "markdown",
   "id": "c7ac0de9",
   "metadata": {},
   "source": [
    "En este ejemplo, el archivo se cierra en el bloque `finally`, lo que garantiza que se cerrará independientemente de si hubo o no excepciones.\n",
    "\n",
    "En resumen, es importante manejar adecuadamente las excepciones al trabajar con archivos en Python para evitar errores y asegurar que se cierre el archivo correctamente al terminar de trabajar con él.\n",
    "\n",
    "## Uso de la expresión `with`\n",
    "\n",
    "La expresión `with` en Python es una forma más elegante y segura de abrir y trabajar con archivos. Permite trabajar con un recurso de forma segura, asegurándose de que se cierre correctamente una vez que se haya terminado de utilizar. Además, maneja automáticamente cualquier excepción que pueda ocurrir durante el uso del recurso.\n",
    "\n",
    "El uso básico de la expresión `with` para abrir y trabajar con un archivo se ve así:"
   ]
  },
  {
   "cell_type": "code",
   "execution_count": null,
   "id": "3aa5ff26",
   "metadata": {
    "ExecuteTime": {
     "end_time": "2023-03-06T00:23:32.947307Z",
     "start_time": "2023-03-06T00:23:32.924622Z"
    }
   },
   "outputs": [],
   "source": [
    "with open('archivo.txt', 'r') as archivo:\n",
    "    contenido = archivo.read()\n",
    "    # Hacer algo con el contenido del archivo"
   ]
  },
  {
   "cell_type": "markdown",
   "id": "30b22c09",
   "metadata": {},
   "source": [
    "En este ejemplo, estamos abriendo el archivo `archivo.txt` en modo de lectura (`'r'`) y asignando el archivo a la variable `archiv`o. Luego, dentro del bloque `with`, leemos el contenido del archivo y hacemos algo con él.\n",
    "\n",
    "Una vez que se ha terminado de trabajar con el archivo, la expresión `with` se encarga automáticamente de cerrarlo, incluso si ocurre una excepción mientras se trabaja con el archivo.\n",
    "\n",
    "También se puede usar la expresión `with` con múltiples archivos:"
   ]
  },
  {
   "cell_type": "code",
   "execution_count": null,
   "id": "9c87f0e4",
   "metadata": {
    "ExecuteTime": {
     "end_time": "2023-03-06T00:24:32.660459Z",
     "start_time": "2023-03-06T00:24:32.640819Z"
    }
   },
   "outputs": [],
   "source": [
    "with open('archivo.txt', 'r') as archivo1, open('archivo2.txt', 'w') as archivo2:\n",
    "    contenido = archivo1.read()\n",
    "    archivo2.write(contenido)"
   ]
  },
  {
   "cell_type": "markdown",
   "id": "9fb84688",
   "metadata": {},
   "source": [
    "En este ejemplo, estamos abriendo el archivo `archivo.txt` en modo de lectura y el archivo `archivo2.txt` en modo de escritura. Luego, leemos el contenido de `archivo.txt` y lo escribimos en `archivo2.txt`. Finalmente, la expresión `with` se encarga de cerrar ambos archivos.\n",
    "\n",
    "En resumen, la expresión `with` es una forma segura y elegante de abrir y trabajar con archivos en Python, ya que se asegura de que los recursos se cierren correctamente y maneja automáticamente cualquier excepción que pueda ocurrir durante el uso del recurso.\n",
    "\n",
    "## Modo de apertura `'+'`\n",
    "\n",
    "El modo de apertura \"`+`\" se utiliza para leer y escribir un archivo simultáneamente. Este modo de apertura es útil en situaciones en las que se necesite actualizar un archivo existente agregando más datos sin borrar los datos ya existentes.\n",
    "\n",
    "En el modo de apertura \"`+`\", se utilizan los siguientes símbolos para indicar los diferentes modos de apertura:\n",
    "\n",
    "* `r+`:\tAbrir el archivo para leer y escribir, empezando desde el principio.\n",
    "* `w+`:\tAbrir el archivo para leer y escribir, truncando el archivo existente si existe.\n",
    "* `a+`:\tAbrir el archivo para leer y escribir, empezando desde el final del archivo si existe. Si el archivo no existe, se crea.\n",
    "\n",
    "Aquí hay un ejemplo de cómo se puede utilizar el modo de apertura \"`+`\" para leer y escribir un archivo simultáneamente:"
   ]
  },
  {
   "cell_type": "code",
   "execution_count": null,
   "id": "2052442e",
   "metadata": {
    "ExecuteTime": {
     "end_time": "2023-03-06T00:32:12.638404Z",
     "start_time": "2023-03-06T00:32:12.625692Z"
    }
   },
   "outputs": [],
   "source": [
    "with open('archivo.txt', 'r+') as f:\n",
    "    # Leer los primeros 10 caracteres del archivo\n",
    "    data = f.read(10)\n",
    "    print(data)\n",
    "    \n",
    "    # Escribir en el archivo\n",
    "    f.write('nuevos datos')"
   ]
  },
  {
   "cell_type": "markdown",
   "id": "64e1c8cc",
   "metadata": {},
   "source": [
    "En este ejemplo, se utiliza el modo de apertura \"`r+`\" para abrir el archivo \"`archivo.txt`\" para leer y escribir. Se leen los primeros 10 caracteres del archivo y se imprimen en la consola. Luego, se escribe \"nuevos datos\" en el archivo utilizando el método `write()`.\n",
    "\n",
    "Es importante tener en cuenta que el modo de apertura \"`+`\" puede ser peligroso si no se utiliza correctamente, ya que se pueden perder datos si no se toman las precauciones adecuadas. Es recomendable utilizarlo con precaución y asegurarse de que se esté escribiendo en la parte correcta del archivo.\n",
    "\n",
    "## Diferencias entre `a` y `+`\n",
    "\n",
    "El modo de apertura '`+`' se utiliza para lectura y escritura simultánea, mientras que el modo de apertura '`a`' es para añadir contenido al final del archivo sin modificar el contenido existente.\n",
    "\n",
    "Con el modo de apertura '`+`', el archivo se abre para leer y escribir simultáneamente, lo que significa que se pueden realizar ambas operaciones en el archivo en cualquier orden. Además, permite la lectura y escritura de diferentes secciones del archivo en diferentes momentos.\n",
    "\n",
    "Por otro lado, el modo de apertura '`a`' se utiliza para añadir contenido al final del archivo sin modificar el contenido existente. En este modo, si el archivo no existe, se crea uno nuevo. Si el archivo ya existe, el contenido se escribe al final del archivo, sin modificar el contenido existente."
   ]
  },
  {
   "cell_type": "markdown",
   "id": "65afcf51",
   "metadata": {},
   "source": [
    "### Ejemplo\n",
    "\n",
    "Escribir un programa que lea un archivo de texto y genere un nuevo archivo con el mismo contenido, pero con todas las palabras en orden inverso.\n",
    "\n",
    "Para lograr esto, se podría seguir el siguiente flujo de trabajo:\n",
    "\n",
    "1. Leer el archivo de texto original.\n",
    "2. Separar el contenido del archivo en palabras individuales.\n",
    "3. Invertir el orden de las palabras.\n",
    "4. Guardar el contenido invertido en un nuevo archivo.\n",
    "\n",
    "A continuación, te muestro un ejemplo de cómo se podría implementar este programa en Python:"
   ]
  },
  {
   "cell_type": "code",
   "execution_count": null,
   "id": "e68835c0",
   "metadata": {
    "ExecuteTime": {
     "end_time": "2023-03-06T01:51:04.473417Z",
     "start_time": "2023-03-06T01:51:04.463798Z"
    }
   },
   "outputs": [],
   "source": [
    "# Abrir el archivo original y leer su contenido\n",
    "with open('archivo.txt', 'r') as archivo_orig:\n",
    "    contenido = archivo_orig.read()\n",
    "\n",
    "# Separar el contenido en palabras individuales\n",
    "palabras = contenido.split()\n",
    "\n",
    "# Invertir el orden de las palabras\n",
    "palabras_invertidas = palabras[::-1]\n",
    "\n",
    "# Crear un nuevo archivo y escribir las palabras invertidas\n",
    "with open('archivo_invertido.txt', 'w') as archivo_inv:\n",
    "    archivo_inv.write(' '.join(palabras_invertidas))"
   ]
  },
  {
   "cell_type": "markdown",
   "id": "dd8f3b2b",
   "metadata": {},
   "source": [
    "En este ejemplo, utilizamos la función `open()` para abrir el archivo original en modo lectura ('`r`') y leer su contenido con el método `read()`. A continuación, separamos el contenido en palabras individuales utilizando el método `split()`.\n",
    "\n",
    "Luego, invertimos el orden de las palabras utilizando la sintaxis de rebanado `[::1]`, que crea una copia de la lista `palabras` en orden inverso. Finalmente, creamos un nuevo archivo utilizando la función `open()` en modo escritura ('`w`') y escribimos las palabras invertidas en él utilizando el método `write()`."
   ]
  },
  {
   "cell_type": "markdown",
   "id": "23900df2",
   "metadata": {},
   "source": [
    "### Ejercicio\n",
    "\n",
    "Hay que seguir los siguiente pasos:\n",
    "\n",
    "1. Pide al usuario que ingrese un número entero.\n",
    "2. Usa un bucle para calcular todos los números primos desde 1 hasta el número ingresado.\n",
    "3. Guarda los números primos en una lista.\n",
    "4. Usa la librería datetime para obtener la fecha y hora actual.\n",
    "5. Crea una cadena de texto que contenga la fecha y hora seguida por los números primos separados por comas.\n",
    "6. Usa la función open para abrir el archivo. Si el archivo no existe, créalo. Si existe, abre el archivo en modo append.\n",
    "7. Escribe la cadena de texto en el archivo.\n",
    "8. Cierra el archivo.\n",
    "\n",
    "El ejercicio tiene como objetivo que los alumnos apliquen lo aprendido en manejo de archivos y uso de listas, así como también el uso de librerías externas como datetime. Además, se espera que los alumnos comprendan la importancia de organizar y guardar la información de manera estructurada."
   ]
  },
  {
   "cell_type": "code",
   "execution_count": null,
   "id": "7da8d229",
   "metadata": {
    "ExecuteTime": {
     "end_time": "2023-03-06T01:58:08.853558Z",
     "start_time": "2023-03-06T01:58:07.016955Z"
    }
   },
   "outputs": [],
   "source": []
  },
  {
   "cell_type": "markdown",
   "id": "7d5beb12",
   "metadata": {},
   "source": [
    "## Manejo de archivos binarios\n",
    "\n",
    "En Python, los archivos binarios se manejan de manera similar a los archivos de texto, con la diferencia de que en los archivos binarios se escriben y leen bytes en lugar de caracteres.\n",
    "\n",
    "Para abrir un archivo en modo binario, se utiliza la letra \"`b`\" junto con el modo de apertura, por ejemplo, \"`rb`\" para abrir un archivo en modo de lectura binaria y \"`wb`\" para abrir un archivo en modo de escritura binaria.\n",
    "\n",
    "Algunos de los modos de apertura para archivos binarios son:\n",
    "\n",
    "* `rb`:\tAbre el archivo en modo de lectura binaria\n",
    "* `wb`:\tAbre el archivo en modo de escritura binaria, si el archivo existe, lo sobrescribe, sino lo crea\n",
    "* `ab`:\tAbre el archivo en modo de escritura binaria, añadiendo al final del archivo\n",
    "* `r+b` o `rb+`:\tAbre el archivo en modo de lectura y escritura binaria\n",
    "\n",
    "A continuación se muestran algunos ejemplos de cómo trabajar con archivos binarios en Python:\n",
    "\n",
    "### Ejemplo 1:  Escritura de un archivo binario"
   ]
  },
  {
   "cell_type": "code",
   "execution_count": null,
   "id": "ff4f2ae0",
   "metadata": {
    "ExecuteTime": {
     "end_time": "2023-03-06T00:42:48.794121Z",
     "start_time": "2023-03-06T00:42:48.780547Z"
    }
   },
   "outputs": [],
   "source": [
    "with open(\"archivo.bin\", \"wb\") as archivo:\n",
    "    datos = b\"datos en formato binario\"\n",
    "    archivo.write(datos)"
   ]
  },
  {
   "cell_type": "markdown",
   "id": "18a05274",
   "metadata": {},
   "source": [
    "En este ejemplo, se crea el archivo \"`archivo.bin`\" en modo de escritura binaria y se escribe en él los datos en formato binario contenidos en la variable \"datos\" con el método `write()`.\n",
    "\n",
    "### Ejemplo 2: Lectura de un archivo binario"
   ]
  },
  {
   "cell_type": "code",
   "execution_count": null,
   "id": "ee409af0",
   "metadata": {
    "ExecuteTime": {
     "end_time": "2023-03-06T00:43:32.755497Z",
     "start_time": "2023-03-06T00:43:32.739924Z"
    }
   },
   "outputs": [],
   "source": [
    "with open(\"archivo.bin\", \"rb\") as archivo:\n",
    "    contenido = archivo.read()"
   ]
  },
  {
   "cell_type": "markdown",
   "id": "81617a2d",
   "metadata": {},
   "source": [
    "En este ejemplo, se abre el archivo \"`archivo.bin`\" en modo de lectura binaria y se lee su contenido en la variable \"contenido\" con el método `read()`.\n",
    "\n",
    "### Ejemplo 3: Añadir contenido a un archivo binario"
   ]
  },
  {
   "cell_type": "code",
   "execution_count": null,
   "id": "e285ca57",
   "metadata": {
    "ExecuteTime": {
     "end_time": "2023-03-06T00:44:46.533771Z",
     "start_time": "2023-03-06T00:44:46.514834Z"
    }
   },
   "outputs": [],
   "source": [
    "with open(\"archivo.bin\", \"ab\") as archivo:\n",
    "    datos = b\"mas datos en formato binario\"\n",
    "    archivo.write(datos)"
   ]
  },
  {
   "cell_type": "markdown",
   "id": "bfe66dba",
   "metadata": {},
   "source": [
    "En este ejemplo, se abre el archivo \"`archivo.bin`\" en modo de escritura binaria añadiendo al final del archivo con el modo de apertura \"`ab`\". Se escribe en él los datos en formato binario contenidos en la variable \"`datos`\" con el método `write()`.\n",
    "\n",
    "### Ejemplo 4: Lectura y escritura de un archivo binario"
   ]
  },
  {
   "cell_type": "code",
   "execution_count": null,
   "id": "2dd0b80f",
   "metadata": {
    "ExecuteTime": {
     "end_time": "2023-03-06T00:45:45.134218Z",
     "start_time": "2023-03-06T00:45:45.127662Z"
    }
   },
   "outputs": [],
   "source": [
    "with open(\"archivo.bin\", \"r+b\") as archivo:\n",
    "    contenido = archivo.read()\n",
    "    archivo.write(b\"nuevos datos\")"
   ]
  },
  {
   "cell_type": "markdown",
   "id": "2bffa3d7",
   "metadata": {},
   "source": [
    "En este ejemplo, se abre el archivo \"`archivo.bin`\" en modo de lectura y escritura binaria con el modo de apertura \"`r+b`\". Se lee su contenido en la variable \"`contenido`\" con el método `read()`, y luego se escriben nuevos datos en formato binario en el archivo con el método `write()`.\n",
    "\n",
    "Es importante tener en cuenta que cuando se trabaja con archivos binarios, es necesario manejar los datos como bytes y no como cadenas de caracteres. Para ello, se utilizan prefijos como `b` para indicar que un literal es una cadena de bytes y `\\\\x` para representar bytes en hexadecimal."
   ]
  },
  {
   "cell_type": "markdown",
   "id": "17bd8699",
   "metadata": {},
   "source": [
    "## Conversión entre formatos\n",
    "\n",
    "Aquí te muestro un ejemplo de cómo convertir un archivo de texto en formato .txt a binario en Python:"
   ]
  },
  {
   "cell_type": "code",
   "execution_count": null,
   "id": "90d51155",
   "metadata": {
    "ExecuteTime": {
     "end_time": "2023-03-06T02:01:32.154967Z",
     "start_time": "2023-03-06T02:01:32.133781Z"
    }
   },
   "outputs": [],
   "source": [
    "# Abre el archivo de texto en modo lectura\n",
    "with open(\"archivo.txt\", \"r\") as archivo_txt:\n",
    "    # Lee el contenido del archivo de texto\n",
    "    contenido = archivo_txt.read()\n",
    "\n",
    "# Abre el archivo binario en modo escritura\n",
    "with open(\"archivo.bin\", \"wb\") as archivo_bin:\n",
    "    # Convierte el contenido del archivo de texto a binario\n",
    "    contenido_binario = bytes(contenido, \"utf-8\")\n",
    "    # Escribe el contenido binario en el archivo binario\n",
    "    archivo_bin.write(contenido_binario)"
   ]
  },
  {
   "cell_type": "markdown",
   "id": "093bcfc1",
   "metadata": {},
   "source": [
    "En este ejemplo, primero abrimos el archivo de texto en modo lectura y leemos su contenido con el método `read()`. Luego abrimos un archivo binario en modo escritura con la opción \"`wb`\" y convertimos el contenido del archivo de texto a binario utilizando la función `bytes()` y especificando la codificación (\"`utf-8`\" en este caso). Finalmente, escribimos el contenido binario en el archivo binario con el método `write()`."
   ]
  },
  {
   "cell_type": "markdown",
   "id": "4254e430",
   "metadata": {},
   "source": [
    " ## El módulo `os`\n",
    " \n",
    "El módulo `os` es muy útil para interactuar con el sistema operativo y administrar archivos y directorios. A continuación, te mostraré algunas de las funciones más útiles que ofrece este módulo y algunos ejemplos de cómo usarlas:\n",
    "\n",
    "* `os.name`: devuelve el nombre del sistema operativo."
   ]
  },
  {
   "cell_type": "code",
   "execution_count": null,
   "id": "9f31e9f7",
   "metadata": {
    "ExecuteTime": {
     "end_time": "2023-03-06T00:56:29.883492Z",
     "start_time": "2023-03-06T00:56:29.872191Z"
    }
   },
   "outputs": [],
   "source": [
    "import os\n",
    "\n",
    "print(os.name) #'nt' significa Windows, y 'posix' Unix/Linux/MacOS."
   ]
  },
  {
   "cell_type": "markdown",
   "id": "8f695325",
   "metadata": {},
   "source": [
    "* `os.getcwd()`: devuelve el directorio actual de trabajo."
   ]
  },
  {
   "cell_type": "code",
   "execution_count": null,
   "id": "38a3d3c5",
   "metadata": {
    "ExecuteTime": {
     "end_time": "2023-03-06T00:59:16.583456Z",
     "start_time": "2023-03-06T00:59:16.571350Z"
    }
   },
   "outputs": [],
   "source": [
    "import os\n",
    "\n",
    "print(os.getcwd()) "
   ]
  },
  {
   "cell_type": "markdown",
   "id": "2b813c35",
   "metadata": {},
   "source": [
    "* `os.chdir(path)`: cambia el directorio actual de trabajo al indicado en `path`."
   ]
  },
  {
   "cell_type": "code",
   "execution_count": null,
   "id": "d4e1edb7",
   "metadata": {
    "ExecuteTime": {
     "end_time": "2023-03-06T00:59:13.027887Z",
     "start_time": "2023-03-06T00:59:13.012135Z"
    }
   },
   "outputs": [],
   "source": [
    "import os\n",
    "\n",
    "os.chdir(r'C:\\Users\\mserr\\Documents\\Semestre 2023-2\\Técnicas de Programación\\Códigos')"
   ]
  },
  {
   "cell_type": "markdown",
   "id": "8ba2f249",
   "metadata": {},
   "source": [
    "* `os.listdir(path='.')`: devuelve una lista de los archivos y carpetas en el directorio indicado en `path`. Si no se especifica ningún directorio, por defecto usa el directorio actual."
   ]
  },
  {
   "cell_type": "code",
   "execution_count": null,
   "id": "ca4a3937",
   "metadata": {
    "ExecuteTime": {
     "end_time": "2023-03-06T01:00:12.209213Z",
     "start_time": "2023-03-06T01:00:12.189073Z"
    }
   },
   "outputs": [],
   "source": [
    "import os\n",
    "\n",
    "print(os.listdir())  # muestra los archivos y carpetas del directorio actual\n",
    "print(os.listdir(r'C:\\Users\\mserr\\Documents\\Semestre 2023-2\\Técnicas de Programación\\Códigos'))"
   ]
  },
  {
   "cell_type": "markdown",
   "id": "f7c7b31b",
   "metadata": {},
   "source": [
    "* `os.mkdir(path, mode=0o777, *, dir_fd=None)`: crea un nuevo directorio con el nombre especificado en `path`. El modo por defecto es `0o777`, que otorga permisos de lectura, escritura y ejecución a todos los usuarios."
   ]
  },
  {
   "cell_type": "code",
   "execution_count": null,
   "id": "ab49ba0c",
   "metadata": {
    "ExecuteTime": {
     "end_time": "2023-03-06T01:04:26.098807Z",
     "start_time": "2023-03-06T01:04:26.085019Z"
    }
   },
   "outputs": [],
   "source": [
    "import os\n",
    "\n",
    "os.mkdir(r'C:\\Users\\mserr\\Documents\\Semestre 2023-2\\Técnicas de Programación\\Códigos\\Prueba')"
   ]
  },
  {
   "cell_type": "markdown",
   "id": "2818f805",
   "metadata": {},
   "source": [
    "* `os.remove(path, *, dir_fd=None)`: elimina el archivo con el nombre especificado en path."
   ]
  },
  {
   "cell_type": "code",
   "execution_count": null,
   "id": "6aa8649e",
   "metadata": {
    "ExecuteTime": {
     "end_time": "2023-03-06T01:03:22.381983Z",
     "start_time": "2023-03-06T01:03:22.370247Z"
    }
   },
   "outputs": [],
   "source": [
    "import os\n",
    "\n",
    "os.remove(r'C:\\Users\\mserr\\Documents\\Semestre 2023-2\\Técnicas de Programación\\Códigos\\archivo.txt')"
   ]
  },
  {
   "cell_type": "markdown",
   "id": "b25ae911",
   "metadata": {},
   "source": [
    "* `os.rmdir(path, *, dir_fd=None)`: elimina el directorio vacío con el nombre especificado en path."
   ]
  },
  {
   "cell_type": "code",
   "execution_count": null,
   "id": "e23c35d7",
   "metadata": {
    "ExecuteTime": {
     "end_time": "2023-03-06T01:04:40.954589Z",
     "start_time": "2023-03-06T01:04:40.944024Z"
    }
   },
   "outputs": [],
   "source": [
    "import os\n",
    "\n",
    "os.rmdir(r'C:\\Users\\mserr\\Documents\\Semestre 2023-2\\Técnicas de Programación\\Códigos\\Prueba')"
   ]
  },
  {
   "cell_type": "markdown",
   "id": "a22fb1f9",
   "metadata": {},
   "source": [
    "* `os.path.exists(path)`: devuelve `True` si el archivo o directorio especificado en `path` existe y `False` en caso contrario."
   ]
  },
  {
   "cell_type": "code",
   "execution_count": null,
   "id": "75da379c",
   "metadata": {
    "ExecuteTime": {
     "end_time": "2023-03-06T01:12:46.504868Z",
     "start_time": "2023-03-06T01:12:46.497357Z"
    }
   },
   "outputs": [],
   "source": [
    "import os\n",
    "\n",
    "print(os.path.exists(r'C:\\Users\\mserr\\Documents\\Semestre 2023-2\\Técnicas de Programación\\Códigos\\Prueba'))"
   ]
  },
  {
   "cell_type": "markdown",
   "id": "27a8e604",
   "metadata": {},
   "source": [
    "* `os.path.isfile(path)`: devuelve `True` si el archivo especificado en `path` existe y es un archivo (no un directorio), y `False` en caso contrario."
   ]
  },
  {
   "cell_type": "code",
   "execution_count": null,
   "id": "f023f1be",
   "metadata": {
    "ExecuteTime": {
     "end_time": "2023-03-06T01:14:39.781321Z",
     "start_time": "2023-03-06T01:14:39.771225Z"
    }
   },
   "outputs": [],
   "source": [
    "import os\n",
    "\n",
    "print(os.path.isfile(r'C:\\Users\\mserr\\Documents\\Semestre 2023-2\\Técnicas de Programación\\Códigos\\archivo.bin'))"
   ]
  },
  {
   "cell_type": "markdown",
   "id": "cdd005b0",
   "metadata": {},
   "source": [
    "* `os.path.isdir(path)`: devuelve `True` si el directorio especificado en `path` existe y es un directorio (no un archivo), y `False` en caso contrario."
   ]
  },
  {
   "cell_type": "code",
   "execution_count": null,
   "id": "6b9b79da",
   "metadata": {
    "ExecuteTime": {
     "end_time": "2023-03-06T01:14:29.283605Z",
     "start_time": "2023-03-06T01:14:29.279603Z"
    }
   },
   "outputs": [],
   "source": [
    "import os\n",
    "\n",
    "print(os.path.isdir(r'C:\\Users\\mserr\\Documents\\Semestre 2023-2\\Técnicas de Programación\\Códigos\\Prueba'))"
   ]
  },
  {
   "cell_type": "markdown",
   "id": "bd2c4904",
   "metadata": {},
   "source": [
    "* `os.path.getsize()`: devuelve el tamaño del archivo en bytes. Entonces, para comparar el tamaño de dos archivos se pueden obtener los tamaños de ambos archivos y luego compararlos utilizando operadores de comparación."
   ]
  },
  {
   "cell_type": "code",
   "execution_count": null,
   "id": "27a47fec",
   "metadata": {
    "ExecuteTime": {
     "end_time": "2023-03-06T02:03:06.350152Z",
     "start_time": "2023-03-06T02:03:06.343900Z"
    }
   },
   "outputs": [],
   "source": [
    "import os\n",
    "\n",
    "# Obtener el tamaño del archivo1 y del archivo2\n",
    "tamano_archivo1 = os.path.getsize('archivo.txt')\n",
    "tamano_archivo2 = os.path.getsize('archivo.bin')\n",
    "\n",
    "# Comparar los tamaños de los archivos\n",
    "if tamano_archivo1 > tamano_archivo2:\n",
    "    print('El archivo1 es más grande que el archivo2')\n",
    "elif tamano_archivo1 < tamano_archivo2:\n",
    "    print('El archivo2 es más grande que el archivo1')\n",
    "else:\n",
    "    print('Los archivos tienen el mismo tamaño')"
   ]
  },
  {
   "cell_type": "markdown",
   "id": "f724841d",
   "metadata": {},
   "source": [
    "## Modulo `shutil` en Python\n",
    "\n",
    "El módulo `shutil` es una librería de Python que permite copiar, mover y eliminar archivos y directorios. Algunas de las funciones más útiles son:\n",
    "\n",
    "* `shutil.copy(src, dst)`: Copia el archivo `src` al archivo o directorio `dst`.\n",
    "* `shutil.move(src, dst)`: Mueve el archivo o directorio `src` al archivo o directorio `dst`.\n",
    "* `shutil.rmtree(path)`: Elimina el directorio y su contenido.\n",
    "\n",
    "Ejemplo:"
   ]
  },
  {
   "cell_type": "code",
   "execution_count": null,
   "id": "c8a971a1",
   "metadata": {},
   "outputs": [],
   "source": [
    "# Asegurarse que la carpeta existe\n",
    "os.mkdir(r'C:\\Users\\mserr\\Documents\\Semestre 2023-2\\Técnicas de Programación\\Códigos\\Prueba')"
   ]
  },
  {
   "cell_type": "code",
   "execution_count": null,
   "id": "f0700a94",
   "metadata": {
    "ExecuteTime": {
     "end_time": "2023-03-06T01:20:09.092624Z",
     "start_time": "2023-03-06T01:20:09.073828Z"
    }
   },
   "outputs": [],
   "source": [
    "import shutil\n",
    "\n",
    "# Copiar un archivo de un directorio a otro\n",
    "shutil.copy(r'C:\\Users\\mserr\\Documents\\Semestre 2023-2\\Técnicas de Programación\\Códigos\\archivo.bin',\n",
    "            r'C:\\Users\\mserr\\Documents\\Semestre 2023-2\\Técnicas de Programación\\Códigos\\Prueba\\archivo.bin')\n",
    "\n",
    "# Mover un archivo de un directorio a otro\n",
    "shutil.move(r'C:\\Users\\mserr\\Documents\\Semestre 2023-2\\Técnicas de Programación\\Códigos\\Prueba\\archivo.bin',\n",
    "            r'C:\\Users\\mserr\\Documents\\Semestre 2023-2\\Técnicas de Programación\\Códigos\\archivo_mov.bin')\n",
    "\n",
    "# Eliminar un directorio y su contenido\n",
    "shutil.rmtree(r'C:\\Users\\mserr\\Documents\\Semestre 2023-2\\Técnicas de Programación\\Códigos\\Prueba')"
   ]
  },
  {
   "cell_type": "markdown",
   "id": "7d20df7a",
   "metadata": {},
   "source": [
    "## Manejo de archivos CSV\n",
    "\n",
    "El formato CSV (Comma Separated Values) es un formato comúnmente utilizado para almacenar y compartir datos tabulares en diferentes aplicaciones. Cada registro en un archivo CSV se representa como una línea en el archivo, y los campos dentro de cada registro están separados por comas. En Python, podemos trabajar con archivos CSV utilizando el módulo `csv` incorporado.\n",
    "\n",
    "### Escritura de archivos CSV\n",
    "\n",
    "Para escribir datos en un archivo CSV en Python, podemos usar la función `csv.writer()`. Esta función toma un objeto de archivo y devuelve un objeto escritor de CSV que podemos usar para escribir datos en el archivo.\n",
    "\n",
    "El siguiente es un ejemplo de cómo escribir datos en un archivo CSV en Python:"
   ]
  },
  {
   "cell_type": "code",
   "execution_count": null,
   "id": "cb5aa9f9",
   "metadata": {
    "ExecuteTime": {
     "end_time": "2023-03-06T01:39:49.866479Z",
     "start_time": "2023-03-06T01:39:49.853106Z"
    }
   },
   "outputs": [],
   "source": [
    "import csv\n",
    "\n",
    "datos = [\n",
    "    ['Nombre', 'Apellido', 'Edad'],\n",
    "    ['Juan', 'Pérez', '25'],\n",
    "    ['María', 'García', '30'],\n",
    "    ['Pedro', 'López', '27']\n",
    "]\n",
    "\n",
    "with open('datos.csv', 'w', newline='') as archivo_csv:\n",
    "    escritor_csv = csv.writer(archivo_csv, delimiter=',')\n",
    "    for fila in datos:\n",
    "        escritor_csv.writerow(fila)"
   ]
  },
  {
   "cell_type": "markdown",
   "id": "c2bb4749",
   "metadata": {},
   "source": [
    "En este ejemplo, creamos una lista de listas llamada `datos` que contiene la información que deseamos escribir en el archivo CSV. Luego, abrimos el archivo CSV `datos.csv` en modo escritura y utilizamos la función `csv.writer()` para crear un objeto escritor de CSV. El objeto escritor de CSV nos permite escribir las filas del archivo una por una.\n",
    "\n",
    "En este caso, utilizamos un bucle `for` para recorrer la lista de listas datos y escribir cada fila en el archivo CSV utilizando el método `writerow()` del objeto escritor de CSV.\n",
    "\n",
    "### Lectura de archivos CSV\n",
    "\n",
    "Para leer un archivo CSV en Python, podemos usar la función `csv.reader()`. Esta función toma un objeto de archivo y devuelve un objeto lector de CSV que podemos usar para leer los datos en el archivo.\n",
    "\n",
    "El siguiente es un ejemplo de cómo leer un archivo CSV en Python:"
   ]
  },
  {
   "cell_type": "code",
   "execution_count": null,
   "id": "5711859c",
   "metadata": {
    "ExecuteTime": {
     "end_time": "2023-03-06T01:40:48.435096Z",
     "start_time": "2023-03-06T01:40:48.414162Z"
    }
   },
   "outputs": [],
   "source": [
    "import csv\n",
    "\n",
    "with open('datos.csv', newline='') as archivo_csv:\n",
    "    lector_csv = csv.reader(archivo_csv, delimiter=',')\n",
    "    for fila in lector_csv:\n",
    "        print(fila)"
   ]
  },
  {
   "cell_type": "markdown",
   "id": "05dffa83",
   "metadata": {},
   "source": [
    "En este ejemplo, abrimos el archivo CSV `datos.csv` en modo lectura y utilizamos la función `csv.reader()` para crear un objeto lector de CSV. El parámetro delimiter se utiliza para especificar el carácter utilizado para separar los campos en el archivo CSV. En este caso, se utiliza una coma. La sentencia `with` se utiliza para asegurarnos de que el archivo se cierre correctamente después de que hayamos terminado de leerlo.\n",
    "\n",
    "El objeto lector de CSV nos permite recorrer las filas del archivo una por una y acceder a los campos dentro de cada fila."
   ]
  },
  {
   "cell_type": "markdown",
   "id": "3ea0c1f8",
   "metadata": {},
   "source": [
    "### Diccionarios en archivos CSV\n",
    "\n",
    "El siguiente es un ejemplo de cómo escribir una lista de diccionarios a un archivo CSV usando el módulo `csv`:"
   ]
  },
  {
   "cell_type": "code",
   "execution_count": null,
   "id": "79f5c9a5",
   "metadata": {
    "ExecuteTime": {
     "end_time": "2023-03-06T01:42:26.180904Z",
     "start_time": "2023-03-06T01:42:26.168773Z"
    }
   },
   "outputs": [],
   "source": [
    "import csv\n",
    "\n",
    "empleados = [\n",
    "    {'nombre': 'Juan', 'apellido': 'Pérez', 'edad': 30},\n",
    "    {'nombre': 'María', 'apellido': 'González', 'edad': 25},\n",
    "    {'nombre': 'Luis', 'apellido': 'García', 'edad': 40},\n",
    "]\n",
    "\n",
    "with open('empleados.csv', mode='w', newline='') as empleado_file:\n",
    "    fieldnames = ['nombre', 'apellido', 'edad']\n",
    "    writer = csv.DictWriter(empleado_file, fieldnames=fieldnames)\n",
    "\n",
    "    writer.writeheader()\n",
    "    for empleado in empleados:\n",
    "        writer.writerow(empleado)"
   ]
  },
  {
   "cell_type": "markdown",
   "id": "9568d1d5",
   "metadata": {},
   "source": [
    "En este ejemplo, se crea una lista de diccionarios que contiene información de los empleados. Luego, se abre un archivo CSV en modo de escritura (`mode='w'`) y se crea un objeto `DictWriter` para escribir en el archivo. Se especifican los nombres de las columnas del archivo usando la lista `fieldnames`.\n",
    "\n",
    "Se llama al método `writeheader()` para escribir la fila de encabezado en el archivo. Luego, se recorre la lista de diccionarios y se llama al método `writerow()` para escribir cada fila en el archivo.\n",
    "\n",
    "Al finalizar, se cierra el archivo usando la sentencia `with`.\n",
    "\n",
    "Este es solo un ejemplo básico del uso del módulo csv. Hay muchas más funciones y opciones que se pueden utilizar para manejar archivos CSV de manera más sofisticada."
   ]
  },
  {
   "cell_type": "markdown",
   "id": "a99964db",
   "metadata": {},
   "source": [
    "### Ejercicio\n",
    "\n",
    "En esta actividad les propongo crear una base de datos sobre datos médicos de personas, puedan ingresar los datos de los pacientes mediante la sentencia input. Pidan su nombre, edad, peso (kg) y estatura (cm). Deberan calcular y guardar el dato de indice de masa corporal (IMC). Creen un menú donde pidan al usuario que hacer, tendrá las posibilidades de agregar un nuevo registro o ver el promedio de IMC. Recuerden que deberán guardar los datos en un archivo CSV llamado 'info_IMC.txt', y que el archivo deberá actualizarse cada vez que se realice una modificación. Si se llega a generar una excepción, reportenla en un archivo binario que se llame `log.bin`. En este último archivo reporten la fecha y hora en la que se generó la excepción."
   ]
  },
  {
   "cell_type": "markdown",
   "id": "23de2a7c",
   "metadata": {},
   "source": []
  }
 ],
 "metadata": {
  "kernelspec": {
   "display_name": "Python 3 (ipykernel)",
   "language": "python",
   "name": "python3"
  },
  "language_info": {
   "codemirror_mode": {
    "name": "ipython",
    "version": 3
   },
   "file_extension": ".py",
   "mimetype": "text/x-python",
   "name": "python",
   "nbconvert_exporter": "python",
   "pygments_lexer": "ipython3",
   "version": "3.10.9"
  },
  "varInspector": {
   "cols": {
    "lenName": 16,
    "lenType": 16,
    "lenVar": 40
   },
   "kernels_config": {
    "python": {
     "delete_cmd_postfix": "",
     "delete_cmd_prefix": "del ",
     "library": "var_list.py",
     "varRefreshCmd": "print(var_dic_list())"
    },
    "r": {
     "delete_cmd_postfix": ") ",
     "delete_cmd_prefix": "rm(",
     "library": "var_list.r",
     "varRefreshCmd": "cat(var_dic_list()) "
    }
   },
   "types_to_exclude": [
    "module",
    "function",
    "builtin_function_or_method",
    "instance",
    "_Feature"
   ],
   "window_display": false
  }
 },
 "nbformat": 4,
 "nbformat_minor": 5
}
