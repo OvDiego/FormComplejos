{
 "cells": [
  {
   "cell_type": "code",
   "execution_count": null,
   "id": "74a52901",
   "metadata": {
    "ExecuteTime": {
     "end_time": "2023-08-16T22:03:41.900904Z",
     "start_time": "2023-08-16T22:03:41.891328Z"
    }
   },
   "outputs": [],
   "source": [
    "# Esto es un comentario\n",
    "print(\"Hola Mundo\")"
   ]
  },
  {
   "cell_type": "code",
   "execution_count": null,
   "id": "18c19f1f",
   "metadata": {
    "ExecuteTime": {
     "end_time": "2023-08-16T22:04:50.554894Z",
     "start_time": "2023-08-16T22:04:43.998638Z"
    }
   },
   "outputs": [],
   "source": [
    "nombre = input(\"Escribe tu nombre: \")"
   ]
  },
  {
   "cell_type": "code",
   "execution_count": null,
   "id": "03008201",
   "metadata": {
    "ExecuteTime": {
     "end_time": "2023-08-16T22:04:58.449302Z",
     "start_time": "2023-08-16T22:04:58.440122Z"
    }
   },
   "outputs": [],
   "source": [
    "print(nombre)"
   ]
  },
  {
   "cell_type": "code",
   "execution_count": null,
   "id": "3b89038c",
   "metadata": {
    "ExecuteTime": {
     "end_time": "2023-08-16T22:13:23.982803Z",
     "start_time": "2023-08-16T22:13:23.974779Z"
    }
   },
   "outputs": [],
   "source": [
    "# f-strings\n",
    "print(f\"Me llamo {nombre}\")"
   ]
  },
  {
   "cell_type": "markdown",
   "id": "c0d14104",
   "metadata": {},
   "source": [
    "        Nombre de la empresa\n",
    "        producto 1 - $10.00\n",
    "        producto 2 - $10.00\n",
    "        producto 3 - $10.00\n",
    "        ___________________\n",
    "        Total     - $30.00\n",
    "        \n",
    "       Gracias por su compra"
   ]
  },
  {
   "cell_type": "code",
   "execution_count": null,
   "id": "d8a99c42",
   "metadata": {
    "ExecuteTime": {
     "end_time": "2023-08-16T23:47:49.843602Z",
     "start_time": "2023-08-16T23:47:26.618285Z"
    }
   },
   "outputs": [],
   "source": [
    "empresa = input(\"Escribe el nombre de tu empresa: \")\n",
    "lista_productos=[]\n",
    "lista_precios=[]\n",
    "while True:\n",
    "    nombre=input(\"Escribe el nombre del producto: \")\n",
    "    precio=float(input(\"Escribe el precio del producto: \"))\n",
    "    lista_productos.append(nombre)\n",
    "    lista_precios.append(precio)\n",
    "    res=input(\"Quieres agregar un producto? (s/n): \")\n",
    "    if res==\"n\":\n",
    "        break\n",
    "\n",
    "print(\"\\n\\n\\n\")\n",
    "print(f\"{empresa}\")\n",
    "for i in range(len(lista_productos)):\n",
    "    print(f\"{lista_productos[i]}  -  {lista_precios[i]}\")\n",
    "print(f\"Total   -   {sum(lista_precios)}\")\n",
    "print(\"Gracias por tu compra\")"
   ]
  },
  {
   "cell_type": "code",
   "execution_count": null,
   "id": "0d076334",
   "metadata": {
    "ExecuteTime": {
     "end_time": "2023-08-16T23:39:21.851457Z",
     "start_time": "2023-08-16T23:39:21.835397Z"
    }
   },
   "outputs": [],
   "source": [
    "lista_productos"
   ]
  },
  {
   "cell_type": "code",
   "execution_count": null,
   "id": "aa808c2f",
   "metadata": {
    "ExecuteTime": {
     "end_time": "2023-08-16T23:39:40.418512Z",
     "start_time": "2023-08-16T23:39:40.410501Z"
    }
   },
   "outputs": [],
   "source": [
    "lista_precios"
   ]
  },
  {
   "cell_type": "code",
   "execution_count": null,
   "id": "939de359",
   "metadata": {},
   "outputs": [],
   "source": []
  }
 ],
 "metadata": {
  "kernelspec": {
   "display_name": "Python 3 (ipykernel)",
   "language": "python",
   "name": "python3"
  },
  "language_info": {
   "codemirror_mode": {
    "name": "ipython",
    "version": 3
   },
   "file_extension": ".py",
   "mimetype": "text/x-python",
   "name": "python",
   "nbconvert_exporter": "python",
   "pygments_lexer": "ipython3",
   "version": "3.10.9"
  },
  "varInspector": {
   "cols": {
    "lenName": 16,
    "lenType": 16,
    "lenVar": 40
   },
   "kernels_config": {
    "python": {
     "delete_cmd_postfix": "",
     "delete_cmd_prefix": "del ",
     "library": "var_list.py",
     "varRefreshCmd": "print(var_dic_list())"
    },
    "r": {
     "delete_cmd_postfix": ") ",
     "delete_cmd_prefix": "rm(",
     "library": "var_list.r",
     "varRefreshCmd": "cat(var_dic_list()) "
    }
   },
   "types_to_exclude": [
    "module",
    "function",
    "builtin_function_or_method",
    "instance",
    "_Feature"
   ],
   "window_display": false
  }
 },
 "nbformat": 4,
 "nbformat_minor": 5
}
