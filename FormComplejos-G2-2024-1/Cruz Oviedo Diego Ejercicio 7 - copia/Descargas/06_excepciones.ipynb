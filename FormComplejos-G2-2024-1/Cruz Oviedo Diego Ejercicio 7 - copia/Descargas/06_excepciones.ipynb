{
 "cells": [
  {
   "cell_type": "code",
   "execution_count": null,
   "id": "9b415ffe",
   "metadata": {
    "ExecuteTime": {
     "end_time": "2023-03-05T19:52:28.145927Z",
     "start_time": "2023-03-05T19:52:28.088982Z"
    }
   },
   "outputs": [],
   "source": [
    "import warnings\n",
    "from IPython.display import display, HTML\n",
    "warnings.filterwarnings('ignore')\n",
    "display(HTML(\"<style>.container { width:100% !important; }</style>\"))"
   ]
  },
  {
   "cell_type": "markdown",
   "id": "b4792c91",
   "metadata": {},
   "source": [
    "# Manejo de excepciones\n",
    "\n",
    "El manejo de excepciones en Python es una técnica utilizada para prevenir que un programa se detenga abruptamente cuando ocurre un error inesperado. Una excepción es un objeto que se crea cuando ocurre un error, como una división entre cero o un intento de abrir un archivo que no existe. Para manejar estas excepciones, se utiliza una estructura try-except.\n",
    "\n",
    "## La estructura try-except\n",
    "\n",
    "La estructura try-except es una forma de manejar excepciones en Python. Esta estructura consiste en dos bloques de código, el bloque try y el bloque except. El bloque try contiene el código que se ejecutará normalmente, mientras que el bloque except contiene el código que se ejecutará en caso de que ocurra una excepción.\n",
    "\n",
    "La sintaxis básica de la estructura try-except es la siguiente:"
   ]
  },
  {
   "cell_type": "raw",
   "id": "48a94270",
   "metadata": {},
   "source": [
    "try:\n",
    "    # código que puede generar una excepción\n",
    "except ExceptionType:\n",
    "    # código que se ejecutará en caso de que ocurra una excepción"
   ]
  },
  {
   "cell_type": "markdown",
   "id": "f63835bc",
   "metadata": {},
   "source": [
    "Donde `ExceptionType` es el tipo de excepción que se quiere manejar.\n",
    "\n",
    "### Ejemplo básico"
   ]
  },
  {
   "cell_type": "code",
   "execution_count": null,
   "id": "be6a6742",
   "metadata": {
    "ExecuteTime": {
     "end_time": "2023-03-05T21:28:12.666087Z",
     "start_time": "2023-03-05T21:28:12.606278Z"
    }
   },
   "outputs": [],
   "source": [
    "try:\n",
    "    x = 10 / 0\n",
    "except ZeroDivisionError:\n",
    "    print(\"No se puede dividir entre cero\")"
   ]
  },
  {
   "cell_type": "markdown",
   "id": "614046cf",
   "metadata": {},
   "source": [
    "En este ejemplo, la división entre 10 y 0 generará un error de división entre cero. El bloque except manejará este error y mostrará el mensaje \"No se puede dividir entre cero\".\n",
    "\n",
    "## Tipos de excepciones\n",
    "\n",
    "Existen muchos tipos de excepciones en Python. Algunos de los más comunes son:\n",
    "\n",
    "* `ZeroDivisionError`: cuando se intenta dividir entre cero.\n",
    "* `TypeError`: cuando se intenta realizar una operación no válida en un tipo de dato.\n",
    "* `ValueError`: cuando se intenta pasar un argumento con un valor no válido a una función.\n",
    "* `IndexError`: cuando se intenta acceder a un índice fuera del rango de una lista o tupla.\n",
    "* `KeyError`: cuando se intenta acceder a una clave que no existe en un diccionario.\n",
    "* `FileNotFoundError`: cuando se intenta abrir un archivo que no existe.\n",
    "\n",
    "### Ejemplo con varios tipos de excepciones"
   ]
  },
  {
   "cell_type": "code",
   "execution_count": null,
   "id": "f28793d9",
   "metadata": {},
   "outputs": [],
   "source": [
    "try:\n",
    "    x = int(input(\"Ingresa un número: \"))\n",
    "    y = 10 / x\n",
    "    z = \"Hola\" + y\n",
    "except ValueError:\n",
    "    print(\"Debes ingresar un número\")\n",
    "except ZeroDivisionError:\n",
    "    print(\"No se puede dividir entre cero\")\n",
    "except TypeError:\n",
    "    print(\"No se puede sumar una cadena y un número\")"
   ]
  },
  {
   "cell_type": "markdown",
   "id": "7937ab68",
   "metadata": {},
   "source": [
    "En este ejemplo, el usuario ingresa un número y se intenta dividir 10 entre ese número. Si el usuario ingresa una cadena en lugar de un número, se manejará una excepción de tipo ValueError. Si el usuario ingresa cero, se manejará una excepción de tipo ZeroDivisionError. Si se intenta sumar una cadena y un número, se manejará una excepción de tipo TypeError.\n",
    "\n",
    "## Bloque finally\n",
    "\n",
    "El bloque finally se ejecuta siempre, ya sea que se haya producido una excepción o no. Se utiliza para realizar tareas de limpieza, como cerrar archivos o conexiones de red.\n",
    "\n",
    "La sintaxis básica es la siguiente:"
   ]
  },
  {
   "cell_type": "raw",
   "id": "494ab7fc",
   "metadata": {},
   "source": [
    "try:\n",
    "    # código que puede generar una excepción\n",
    "except ExceptionType:\n",
    "    # código que se ejecutará en caso de que ocurra una excepción\n",
    "finally:\n",
    "    # código que se ejecutará siempre al final"
   ]
  },
  {
   "cell_type": "markdown",
   "id": "26a3f72d",
   "metadata": {},
   "source": [
    "El siguiente ejemplo integra todo lo visto hasta el momento:"
   ]
  },
  {
   "cell_type": "code",
   "execution_count": null,
   "id": "d13f8bb2",
   "metadata": {},
   "outputs": [],
   "source": [
    "try:\n",
    "    # Código que puede generar una excepción\n",
    "    numero = int(input(\"Ingresa un número: \"))\n",
    "    resultado = 10 / numero\n",
    "    print(\"El resultado es:\", resultado)\n",
    "except ValueError:\n",
    "    # Excepción que se ejecuta si se ingresa un valor no numérico\n",
    "    print(\"Error: Debe ingresar un número.\")\n",
    "except ZeroDivisionError:\n",
    "    # Excepción que se ejecuta si se intenta dividir por cero\n",
    "    print(\"Error: No se puede dividir entre cero.\")\n",
    "except Exception as e:\n",
    "    # Excepción que se ejecuta para cualquier otro error\n",
    "    print(\"Error:\", e)\n",
    "finally:\n",
    "    # Bloque que siempre se ejecuta, haya o no excepción\n",
    "    print(\"Fin del programa\")"
   ]
  },
  {
   "cell_type": "markdown",
   "id": "650a3745",
   "metadata": {},
   "source": [
    "En este ejemplo se utiliza el bloque `try` para encapsular el código que puede generar una excepción. Si se produce una excepción, se maneja utilizando uno o varios bloques `except`. En el ejemplo se utilizan tres bloques `except` para manejar posibles excepciones: `ValueError` si se ingresa un valor no numérico, `ZeroDivisionError` si se intenta dividir por cero y `Exception` para cualquier otro error no previsto.\n",
    "\n",
    "Además, se utiliza el bloque `finally` para ejecutar código que siempre debe ejecutarse al final de la ejecución del bloque `try`, independientemente de si se generó una excepción o no.\n",
    "\n",
    "## Generar excepciones\n",
    "\n",
    "En Python puedes usar la palabra clave `raise`. La sintaxis es la siguiente:"
   ]
  },
  {
   "cell_type": "raw",
   "id": "a943cf32",
   "metadata": {},
   "source": [
    "raise Exception(\"Mensaje de error\")"
   ]
  },
  {
   "cell_type": "markdown",
   "id": "c7783935",
   "metadata": {},
   "source": [
    "Donde `\"Mensaje de error\"` es un texto que describa el error que ocurrió. También puedes definir tus propias clases de excepción para lanzarlas en lugar de las clases de excepción integradas en Python.\n",
    "\n",
    "Aquí hay un ejemplo de cómo usar `raise` para lanzar una excepción personalizada:"
   ]
  },
  {
   "cell_type": "code",
   "execution_count": null,
   "id": "a1d59505",
   "metadata": {
    "ExecuteTime": {
     "end_time": "2023-03-05T21:44:33.438073Z",
     "start_time": "2023-03-05T21:44:32.655945Z"
    }
   },
   "outputs": [],
   "source": [
    "def dividir(dividendo, divisor):\n",
    "    if divisor == 0:\n",
    "        raise ValueError(\"El divisor no puede ser cero\")\n",
    "    return dividendo / divisor\n",
    "\n",
    "print(dividir(6, 3))  # Salida: 2.0\n",
    "print(dividir(6, 0))  # ValueError: El divisor no puede ser cero"
   ]
  },
  {
   "cell_type": "markdown",
   "id": "3c25f483",
   "metadata": {},
   "source": [
    "En este ejemplo, definimos una función `dividir` que verifica si el divisor es cero antes de realizar la división. Si el divisor es cero, lanzamos una excepción personalizada `ValueError` con el mensaje `\"El divisor no puede ser cero\"`. En la línea final, intentamos llamar la función con un divisor de cero, lo que resulta en una excepción.\n",
    "\n",
    "Recuerda que puedes crear tus propias clases de excepción personalizadas si necesitas manejar errores específicos en tu código.\n",
    "\n",
    "Aquí hay otro ejemplo de cómo lanzar una excepción personalizada:"
   ]
  },
  {
   "cell_type": "code",
   "execution_count": null,
   "id": "d34ecbde",
   "metadata": {
    "ExecuteTime": {
     "end_time": "2023-03-05T21:45:13.375914Z",
     "start_time": "2023-03-05T21:45:13.362349Z"
    }
   },
   "outputs": [],
   "source": [
    "class MiError(Exception):\n",
    "    pass\n",
    "\n",
    "def funcion():\n",
    "    raise MiError(\"Este es mi error personalizado\")\n",
    "\n",
    "try:\n",
    "    funcion()\n",
    "except MiError as error:\n",
    "    print(error)"
   ]
  },
  {
   "cell_type": "markdown",
   "id": "c3166c28",
   "metadata": {},
   "source": [
    "En este ejemplo, definimos una nueva clase de excepción `MiError` que hereda de la clase base `Exception`. Dentro de la función funcion, usamos `raise` para lanzar un objeto `MiError` con un mensaje personalizado. Luego, en el bloque `try` y `except`, manejamos la excepción `MiError` y mostramos el mensaje personalizado.\n",
    "\n",
    "Es importante tener en cuenta que el uso excesivo de excepciones personalizadas puede hacer que el código sea más difícil de entender y mantener. Solo debes crear excepciones personalizadas cuando sea necesario para manejar errores específicos en tu código.\n",
    "\n",
    "## Función raise sin argumentos\n",
    "\n",
    "El uso de la función raise sin ningún argumento se utiliza para volver a lanzar la última excepción que se produjo en un bloque except. Esto puede ser útil si se quiere reintentar una operación que falló anteriormente."
   ]
  },
  {
   "cell_type": "code",
   "execution_count": null,
   "id": "99e31ab5",
   "metadata": {
    "ExecuteTime": {
     "end_time": "2023-03-05T21:54:19.335314Z",
     "start_time": "2023-03-05T21:54:19.190720Z"
    }
   },
   "outputs": [],
   "source": [
    "def divide(a, b):\n",
    "    try:\n",
    "        result = a / b\n",
    "    except ZeroDivisionError:\n",
    "        print(\"No es posible dividir entre cero\")\n",
    "        raise\n",
    "    else:\n",
    "        print(\"El resultado es:\", result)\n",
    "\n",
    "divide(10, 0) # Se produce una excepción ZeroDivisionError y se relanza automáticamente"
   ]
  },
  {
   "cell_type": "markdown",
   "id": "52d7dd79",
   "metadata": {},
   "source": [
    "En este ejemplo, la función `divide()` intenta dividir `a` entre `b`. Si `b` es cero, se produce una excepción `ZeroDivisionError` y se muestra un mensaje de error. A continuación, se utiliza la función `raise` sin argumentos para volver a lanzar la excepción `ZeroDivisionErro`r y detener la ejecución de la función.\n",
    "\n",
    "En cambio, si no se produce ninguna excepción, se imprime el resultado de la división. La cláusula `els`e se ejecuta sólo si no se produce ninguna excepción en el bloque `try`. En este caso, se imprime el resultado de la división.\n",
    "\n",
    "Este ejemplo muestra cómo podemos utilizar la función `raise` sin argumentos para volver a lanzar automáticamente la última excepción que se produjo en un bloque `except`. En este caso, utilizamos la excepción `ZeroDivisionError` para mostrar cómo se puede volver a lanzar la misma excepción.\n",
    "\n",
    "Es importante tener en cuenta que el uso de la función `raise` sin argumentos puede llevar a un ciclo infinito de excepciones si no se manejan adecuadamente las causas subyacentes de la excepción. Por lo tanto, es recomendable utilizarlo con precaución y asegurarse de que se estén tomando las medidas necesarias para evitar que se produzcan excepciones indefinidamente."
   ]
  },
  {
   "cell_type": "markdown",
   "id": "a0ed8e3c",
   "metadata": {},
   "source": [
    "## Else en excepciones\n",
    "\n",
    "Recuerda que la estructura básica del bloque `try-except-finally` es la siguiente:"
   ]
  },
  {
   "cell_type": "raw",
   "id": "72e65085",
   "metadata": {},
   "source": [
    "try:\n",
    "    # Código que puede generar una excepción\n",
    "except ExceptionType:\n",
    "    # Código que se ejecutará si se genera una excepción del tipo especificado\n",
    "finally:\n",
    "    # Código que siempre se ejecutará, independientemente de si se generó una excepción o no"
   ]
  },
  {
   "cell_type": "markdown",
   "id": "eb9a182d",
   "metadata": {},
   "source": [
    "A esto, se puede agregar la declaración `else`, la cual se ejecuta si no se produce ninguna excepción dentro del bloque `try`. La estructura sería la siguiente:"
   ]
  },
  {
   "cell_type": "raw",
   "id": "a1a01043",
   "metadata": {},
   "source": [
    "try:\n",
    "    # Código que puede generar una excepción\n",
    "except ExceptionType:\n",
    "    # Código que se ejecutará si se genera una excepción del tipo especificado\n",
    "else:\n",
    "    # Código que se ejecutará si no se generó ninguna excepción\n",
    "finally:\n",
    "    # Código que siempre se ejecutará, independientemente de si se generó una excepción o no"
   ]
  },
  {
   "cell_type": "markdown",
   "id": "d6f391de",
   "metadata": {},
   "source": [
    "Aquí te muestro un ejemplo de cómo usar la declaración `else`:"
   ]
  },
  {
   "cell_type": "code",
   "execution_count": null,
   "id": "badfa736",
   "metadata": {
    "ExecuteTime": {
     "end_time": "2023-03-05T21:50:42.066113Z",
     "start_time": "2023-03-05T21:50:39.370779Z"
    }
   },
   "outputs": [],
   "source": [
    "try:\n",
    "    n = int(input(\"Ingrese un número entero positivo: \"))\n",
    "    if n <= 0:\n",
    "        raise ValueError(\"El número debe ser positivo\")\n",
    "except ValueError as ve:\n",
    "    print(\"Error:\", ve)\n",
    "else:\n",
    "    print(\"El número es:\", n)\n",
    "finally:\n",
    "    print(\"El programa ha finalizado\")"
   ]
  },
  {
   "cell_type": "markdown",
   "id": "4ced41f9",
   "metadata": {},
   "source": [
    "En este ejemplo, el usuario ingresa un número entero positivo. Si el número ingresado no es positivo, se genera una excepción `ValueError` con un mensaje personalizado. Si el número es válido, se muestra el número ingresado. En ambos casos, se ejecuta el bloque `finally` para finalizar el programa. Si el número ingresado es válido, también se ejecuta el bloque `else` para mostrar el número ingresado."
   ]
  }
 ],
 "metadata": {
  "kernelspec": {
   "display_name": "Python 3 (ipykernel)",
   "language": "python",
   "name": "python3"
  },
  "language_info": {
   "codemirror_mode": {
    "name": "ipython",
    "version": 3
   },
   "file_extension": ".py",
   "mimetype": "text/x-python",
   "name": "python",
   "nbconvert_exporter": "python",
   "pygments_lexer": "ipython3",
   "version": "3.10.9"
  },
  "varInspector": {
   "cols": {
    "lenName": 16,
    "lenType": 16,
    "lenVar": 40
   },
   "kernels_config": {
    "python": {
     "delete_cmd_postfix": "",
     "delete_cmd_prefix": "del ",
     "library": "var_list.py",
     "varRefreshCmd": "print(var_dic_list())"
    },
    "r": {
     "delete_cmd_postfix": ") ",
     "delete_cmd_prefix": "rm(",
     "library": "var_list.r",
     "varRefreshCmd": "cat(var_dic_list()) "
    }
   },
   "types_to_exclude": [
    "module",
    "function",
    "builtin_function_or_method",
    "instance",
    "_Feature"
   ],
   "window_display": false
  }
 },
 "nbformat": 4,
 "nbformat_minor": 5
}
